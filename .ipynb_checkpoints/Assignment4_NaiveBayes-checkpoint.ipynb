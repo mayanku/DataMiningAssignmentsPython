{
 "cells": [
  {
   "cell_type": "markdown",
   "id": "2c4fa317",
   "metadata": {},
   "source": [
    "<b>\n",
    "It is a classification technique based on Bayes' Theorem with an assumption of independence among predictors. \n",
    "In simple terms, a Naive Bayes classifier assumes that\n",
    "the presence of a particular feature in a class is unrelated to the presence of any other feature.</b>\n",
    "\n",
    "Naive Bayes model is easy to build and particularly useful for very large data sets. Along with simplicity, \n",
    "Naive Bayes performs equally well as many common classifiers. Naive Bayes is a classification algorithm for \n",
    "binary (two-class) and multi-class classification problems. The technique is easiest to understand when\n",
    "described using binary or categorical input values. However, Gaussian distribution can be used to find \n",
    "class- conditional probability for the continuous attributes.\n",
    "\n",
    "\n",
    "It is called Naive Bayes because the calculation of the probabilities for each hypothesis is simplified to make their calculation easy. Rather than attempting to calculate the combined probability P(d1, d2, d3|h), attributes are assumed to be conditionally independent and the probability P(d1, d2, d3|h)is calculated as P(d1|h) * P(d2 h ) * P(d3|h)."
   ]
  },
  {
   "cell_type": "code",
   "execution_count": 137,
   "id": "94bd1e4d",
   "metadata": {},
   "outputs": [],
   "source": [
    "import pandas as pd\n",
    "import numpy as np"
   ]
  },
  {
   "cell_type": "code",
   "execution_count": 138,
   "id": "5c2384f3",
   "metadata": {},
   "outputs": [],
   "source": [
    "df=pd.read_csv(\"/Users/mayank/Downloads/Lab3-20221204/bank-data.csv\")"
   ]
  },
  {
   "cell_type": "code",
   "execution_count": 139,
   "id": "231d8d7e",
   "metadata": {},
   "outputs": [
    {
     "data": {
      "text/html": [
       "<div>\n",
       "<style scoped>\n",
       "    .dataframe tbody tr th:only-of-type {\n",
       "        vertical-align: middle;\n",
       "    }\n",
       "\n",
       "    .dataframe tbody tr th {\n",
       "        vertical-align: top;\n",
       "    }\n",
       "\n",
       "    .dataframe thead th {\n",
       "        text-align: right;\n",
       "    }\n",
       "</style>\n",
       "<table border=\"1\" class=\"dataframe\">\n",
       "  <thead>\n",
       "    <tr style=\"text-align: right;\">\n",
       "      <th></th>\n",
       "      <th>id</th>\n",
       "      <th>age</th>\n",
       "      <th>sex</th>\n",
       "      <th>region</th>\n",
       "      <th>income</th>\n",
       "      <th>married</th>\n",
       "      <th>children</th>\n",
       "      <th>car</th>\n",
       "      <th>save_act</th>\n",
       "      <th>current_act</th>\n",
       "      <th>mortgage</th>\n",
       "      <th>pep</th>\n",
       "    </tr>\n",
       "  </thead>\n",
       "  <tbody>\n",
       "    <tr>\n",
       "      <th>0</th>\n",
       "      <td>ID12101</td>\n",
       "      <td>48</td>\n",
       "      <td>FEMALE</td>\n",
       "      <td>INNER_CITY</td>\n",
       "      <td>17546.0</td>\n",
       "      <td>NO</td>\n",
       "      <td>1</td>\n",
       "      <td>NO</td>\n",
       "      <td>NO</td>\n",
       "      <td>NO</td>\n",
       "      <td>NO</td>\n",
       "      <td>YES</td>\n",
       "    </tr>\n",
       "    <tr>\n",
       "      <th>1</th>\n",
       "      <td>ID12102</td>\n",
       "      <td>40</td>\n",
       "      <td>MALE</td>\n",
       "      <td>TOWN</td>\n",
       "      <td>30085.1</td>\n",
       "      <td>YES</td>\n",
       "      <td>3</td>\n",
       "      <td>YES</td>\n",
       "      <td>NO</td>\n",
       "      <td>YES</td>\n",
       "      <td>YES</td>\n",
       "      <td>NO</td>\n",
       "    </tr>\n",
       "    <tr>\n",
       "      <th>2</th>\n",
       "      <td>ID12103</td>\n",
       "      <td>51</td>\n",
       "      <td>FEMALE</td>\n",
       "      <td>INNER_CITY</td>\n",
       "      <td>16575.4</td>\n",
       "      <td>YES</td>\n",
       "      <td>0</td>\n",
       "      <td>YES</td>\n",
       "      <td>YES</td>\n",
       "      <td>YES</td>\n",
       "      <td>NO</td>\n",
       "      <td>NO</td>\n",
       "    </tr>\n",
       "    <tr>\n",
       "      <th>3</th>\n",
       "      <td>ID12104</td>\n",
       "      <td>23</td>\n",
       "      <td>FEMALE</td>\n",
       "      <td>TOWN</td>\n",
       "      <td>20375.4</td>\n",
       "      <td>YES</td>\n",
       "      <td>3</td>\n",
       "      <td>NO</td>\n",
       "      <td>NO</td>\n",
       "      <td>YES</td>\n",
       "      <td>NO</td>\n",
       "      <td>NO</td>\n",
       "    </tr>\n",
       "    <tr>\n",
       "      <th>4</th>\n",
       "      <td>ID12105</td>\n",
       "      <td>57</td>\n",
       "      <td>FEMALE</td>\n",
       "      <td>RURAL</td>\n",
       "      <td>50576.3</td>\n",
       "      <td>YES</td>\n",
       "      <td>0</td>\n",
       "      <td>NO</td>\n",
       "      <td>YES</td>\n",
       "      <td>NO</td>\n",
       "      <td>NO</td>\n",
       "      <td>NO</td>\n",
       "    </tr>\n",
       "  </tbody>\n",
       "</table>\n",
       "</div>"
      ],
      "text/plain": [
       "        id  age     sex      region   income married  children  car save_act  \\\n",
       "0  ID12101   48  FEMALE  INNER_CITY  17546.0      NO         1   NO       NO   \n",
       "1  ID12102   40    MALE        TOWN  30085.1     YES         3  YES       NO   \n",
       "2  ID12103   51  FEMALE  INNER_CITY  16575.4     YES         0  YES      YES   \n",
       "3  ID12104   23  FEMALE        TOWN  20375.4     YES         3   NO       NO   \n",
       "4  ID12105   57  FEMALE       RURAL  50576.3     YES         0   NO      YES   \n",
       "\n",
       "  current_act mortgage  pep  \n",
       "0          NO       NO  YES  \n",
       "1         YES      YES   NO  \n",
       "2         YES       NO   NO  \n",
       "3         YES       NO   NO  \n",
       "4          NO       NO   NO  "
      ]
     },
     "execution_count": 139,
     "metadata": {},
     "output_type": "execute_result"
    }
   ],
   "source": [
    "df.head()"
   ]
  },
  {
   "cell_type": "code",
   "execution_count": 140,
   "id": "53a927fd",
   "metadata": {},
   "outputs": [],
   "source": [
    "df=df.drop('id',axis=1)"
   ]
  },
  {
   "cell_type": "code",
   "execution_count": 141,
   "id": "94716caa",
   "metadata": {},
   "outputs": [
    {
     "data": {
      "text/html": [
       "<div>\n",
       "<style scoped>\n",
       "    .dataframe tbody tr th:only-of-type {\n",
       "        vertical-align: middle;\n",
       "    }\n",
       "\n",
       "    .dataframe tbody tr th {\n",
       "        vertical-align: top;\n",
       "    }\n",
       "\n",
       "    .dataframe thead th {\n",
       "        text-align: right;\n",
       "    }\n",
       "</style>\n",
       "<table border=\"1\" class=\"dataframe\">\n",
       "  <thead>\n",
       "    <tr style=\"text-align: right;\">\n",
       "      <th></th>\n",
       "      <th>age</th>\n",
       "      <th>sex</th>\n",
       "      <th>region</th>\n",
       "      <th>income</th>\n",
       "      <th>married</th>\n",
       "      <th>children</th>\n",
       "      <th>car</th>\n",
       "      <th>save_act</th>\n",
       "      <th>current_act</th>\n",
       "      <th>mortgage</th>\n",
       "      <th>pep</th>\n",
       "    </tr>\n",
       "  </thead>\n",
       "  <tbody>\n",
       "    <tr>\n",
       "      <th>0</th>\n",
       "      <td>48</td>\n",
       "      <td>FEMALE</td>\n",
       "      <td>INNER_CITY</td>\n",
       "      <td>17546.0</td>\n",
       "      <td>NO</td>\n",
       "      <td>1</td>\n",
       "      <td>NO</td>\n",
       "      <td>NO</td>\n",
       "      <td>NO</td>\n",
       "      <td>NO</td>\n",
       "      <td>YES</td>\n",
       "    </tr>\n",
       "    <tr>\n",
       "      <th>1</th>\n",
       "      <td>40</td>\n",
       "      <td>MALE</td>\n",
       "      <td>TOWN</td>\n",
       "      <td>30085.1</td>\n",
       "      <td>YES</td>\n",
       "      <td>3</td>\n",
       "      <td>YES</td>\n",
       "      <td>NO</td>\n",
       "      <td>YES</td>\n",
       "      <td>YES</td>\n",
       "      <td>NO</td>\n",
       "    </tr>\n",
       "    <tr>\n",
       "      <th>2</th>\n",
       "      <td>51</td>\n",
       "      <td>FEMALE</td>\n",
       "      <td>INNER_CITY</td>\n",
       "      <td>16575.4</td>\n",
       "      <td>YES</td>\n",
       "      <td>0</td>\n",
       "      <td>YES</td>\n",
       "      <td>YES</td>\n",
       "      <td>YES</td>\n",
       "      <td>NO</td>\n",
       "      <td>NO</td>\n",
       "    </tr>\n",
       "    <tr>\n",
       "      <th>3</th>\n",
       "      <td>23</td>\n",
       "      <td>FEMALE</td>\n",
       "      <td>TOWN</td>\n",
       "      <td>20375.4</td>\n",
       "      <td>YES</td>\n",
       "      <td>3</td>\n",
       "      <td>NO</td>\n",
       "      <td>NO</td>\n",
       "      <td>YES</td>\n",
       "      <td>NO</td>\n",
       "      <td>NO</td>\n",
       "    </tr>\n",
       "    <tr>\n",
       "      <th>4</th>\n",
       "      <td>57</td>\n",
       "      <td>FEMALE</td>\n",
       "      <td>RURAL</td>\n",
       "      <td>50576.3</td>\n",
       "      <td>YES</td>\n",
       "      <td>0</td>\n",
       "      <td>NO</td>\n",
       "      <td>YES</td>\n",
       "      <td>NO</td>\n",
       "      <td>NO</td>\n",
       "      <td>NO</td>\n",
       "    </tr>\n",
       "  </tbody>\n",
       "</table>\n",
       "</div>"
      ],
      "text/plain": [
       "   age     sex      region   income married  children  car save_act  \\\n",
       "0   48  FEMALE  INNER_CITY  17546.0      NO         1   NO       NO   \n",
       "1   40    MALE        TOWN  30085.1     YES         3  YES       NO   \n",
       "2   51  FEMALE  INNER_CITY  16575.4     YES         0  YES      YES   \n",
       "3   23  FEMALE        TOWN  20375.4     YES         3   NO       NO   \n",
       "4   57  FEMALE       RURAL  50576.3     YES         0   NO      YES   \n",
       "\n",
       "  current_act mortgage  pep  \n",
       "0          NO       NO  YES  \n",
       "1         YES      YES   NO  \n",
       "2         YES       NO   NO  \n",
       "3         YES       NO   NO  \n",
       "4          NO       NO   NO  "
      ]
     },
     "execution_count": 141,
     "metadata": {},
     "output_type": "execute_result"
    }
   ],
   "source": [
    "df.head()"
   ]
  },
  {
   "cell_type": "code",
   "execution_count": 142,
   "id": "99aa7b6e",
   "metadata": {},
   "outputs": [],
   "source": [
    "from sklearn import preprocessing\n",
    "le=preprocessing.LabelEncoder()\n",
    "lis=['sex','region','married','car','save_act','current_act','mortgage','pep']\n",
    "for i in lis:\n",
    "    df[i]=le.fit_transform(df[i])"
   ]
  },
  {
   "cell_type": "code",
   "execution_count": 143,
   "id": "5d4910ad",
   "metadata": {},
   "outputs": [
    {
     "data": {
      "text/html": [
       "<div>\n",
       "<style scoped>\n",
       "    .dataframe tbody tr th:only-of-type {\n",
       "        vertical-align: middle;\n",
       "    }\n",
       "\n",
       "    .dataframe tbody tr th {\n",
       "        vertical-align: top;\n",
       "    }\n",
       "\n",
       "    .dataframe thead th {\n",
       "        text-align: right;\n",
       "    }\n",
       "</style>\n",
       "<table border=\"1\" class=\"dataframe\">\n",
       "  <thead>\n",
       "    <tr style=\"text-align: right;\">\n",
       "      <th></th>\n",
       "      <th>age</th>\n",
       "      <th>sex</th>\n",
       "      <th>region</th>\n",
       "      <th>income</th>\n",
       "      <th>married</th>\n",
       "      <th>children</th>\n",
       "      <th>car</th>\n",
       "      <th>save_act</th>\n",
       "      <th>current_act</th>\n",
       "      <th>mortgage</th>\n",
       "      <th>pep</th>\n",
       "    </tr>\n",
       "  </thead>\n",
       "  <tbody>\n",
       "    <tr>\n",
       "      <th>0</th>\n",
       "      <td>48</td>\n",
       "      <td>0</td>\n",
       "      <td>0</td>\n",
       "      <td>17546.0</td>\n",
       "      <td>0</td>\n",
       "      <td>1</td>\n",
       "      <td>0</td>\n",
       "      <td>0</td>\n",
       "      <td>0</td>\n",
       "      <td>0</td>\n",
       "      <td>1</td>\n",
       "    </tr>\n",
       "    <tr>\n",
       "      <th>1</th>\n",
       "      <td>40</td>\n",
       "      <td>1</td>\n",
       "      <td>3</td>\n",
       "      <td>30085.1</td>\n",
       "      <td>1</td>\n",
       "      <td>3</td>\n",
       "      <td>1</td>\n",
       "      <td>0</td>\n",
       "      <td>1</td>\n",
       "      <td>1</td>\n",
       "      <td>0</td>\n",
       "    </tr>\n",
       "    <tr>\n",
       "      <th>2</th>\n",
       "      <td>51</td>\n",
       "      <td>0</td>\n",
       "      <td>0</td>\n",
       "      <td>16575.4</td>\n",
       "      <td>1</td>\n",
       "      <td>0</td>\n",
       "      <td>1</td>\n",
       "      <td>1</td>\n",
       "      <td>1</td>\n",
       "      <td>0</td>\n",
       "      <td>0</td>\n",
       "    </tr>\n",
       "    <tr>\n",
       "      <th>3</th>\n",
       "      <td>23</td>\n",
       "      <td>0</td>\n",
       "      <td>3</td>\n",
       "      <td>20375.4</td>\n",
       "      <td>1</td>\n",
       "      <td>3</td>\n",
       "      <td>0</td>\n",
       "      <td>0</td>\n",
       "      <td>1</td>\n",
       "      <td>0</td>\n",
       "      <td>0</td>\n",
       "    </tr>\n",
       "    <tr>\n",
       "      <th>4</th>\n",
       "      <td>57</td>\n",
       "      <td>0</td>\n",
       "      <td>1</td>\n",
       "      <td>50576.3</td>\n",
       "      <td>1</td>\n",
       "      <td>0</td>\n",
       "      <td>0</td>\n",
       "      <td>1</td>\n",
       "      <td>0</td>\n",
       "      <td>0</td>\n",
       "      <td>0</td>\n",
       "    </tr>\n",
       "  </tbody>\n",
       "</table>\n",
       "</div>"
      ],
      "text/plain": [
       "   age  sex  region   income  married  children  car  save_act  current_act  \\\n",
       "0   48    0       0  17546.0        0         1    0         0            0   \n",
       "1   40    1       3  30085.1        1         3    1         0            1   \n",
       "2   51    0       0  16575.4        1         0    1         1            1   \n",
       "3   23    0       3  20375.4        1         3    0         0            1   \n",
       "4   57    0       1  50576.3        1         0    0         1            0   \n",
       "\n",
       "   mortgage  pep  \n",
       "0         0    1  \n",
       "1         1    0  \n",
       "2         0    0  \n",
       "3         0    0  \n",
       "4         0    0  "
      ]
     },
     "execution_count": 143,
     "metadata": {},
     "output_type": "execute_result"
    }
   ],
   "source": [
    "df.head()"
   ]
  },
  {
   "cell_type": "code",
   "execution_count": 144,
   "id": "9a6f0809",
   "metadata": {},
   "outputs": [
    {
     "data": {
      "text/plain": [
       "0      (15132.333, 20406.033]\n",
       "1        (24977.5, 31020.667]\n",
       "2      (15132.333, 20406.033]\n",
       "3      (15132.333, 20406.033]\n",
       "4        (41230.933, 63130.1]\n",
       "                ...          \n",
       "474      (20406.033, 24977.5]\n",
       "475     (5014.209, 15132.333]\n",
       "476      (24977.5, 31020.667]\n",
       "477      (24977.5, 31020.667]\n",
       "478      (20406.033, 24977.5]\n",
       "Name: income, Length: 479, dtype: category\n",
       "Categories (6, interval[float64, right]): [(5014.209, 15132.333] < (15132.333, 20406.033] < (20406.033, 24977.5] < (24977.5, 31020.667] < (31020.667, 41230.933] < (41230.933, 63130.1]]"
      ]
     },
     "execution_count": 144,
     "metadata": {},
     "output_type": "execute_result"
    }
   ],
   "source": [
    "pd.qcut(df['income'], q=6)"
   ]
  },
  {
   "cell_type": "code",
   "execution_count": 145,
   "id": "03519a4e",
   "metadata": {},
   "outputs": [
    {
     "name": "stdout",
     "output_type": "stream",
     "text": [
      "   age  sex  region income  married  children  car  save_act  current_act  \\\n",
      "0   48    0       0      2        0         1    0         0            0   \n",
      "1   40    1       3      4        1         3    1         0            1   \n",
      "2   51    0       0      2        1         0    1         1            1   \n",
      "3   23    0       3      2        1         3    0         0            1   \n",
      "4   57    0       1      6        1         0    0         1            0   \n",
      "\n",
      "   mortgage  pep  \n",
      "0         0    1  \n",
      "1         1    0  \n",
      "2         0    0  \n",
      "3         0    0  \n",
      "4         0    0  \n"
     ]
    }
   ],
   "source": [
    "df['income']=pd.cut(x=df['income'], bins=[5014,15132,20406,25977,31020,41230,63130], \n",
    "                        labels=[1, 2, 3,4,5,6])\n",
    "print(df.head())"
   ]
  },
  {
   "cell_type": "code",
   "execution_count": 164,
   "id": "ba60bca2",
   "metadata": {},
   "outputs": [
    {
     "data": {
      "text/plain": [
       "age            category\n",
       "sex               int64\n",
       "region            int64\n",
       "income         category\n",
       "married           int64\n",
       "children          int64\n",
       "car               int64\n",
       "save_act          int64\n",
       "current_act       int64\n",
       "mortgage          int64\n",
       "pep               int64\n",
       "dtype: object"
      ]
     },
     "execution_count": 164,
     "metadata": {},
     "output_type": "execute_result"
    }
   ],
   "source": [
    "df.dtypes"
   ]
  },
  {
   "cell_type": "code",
   "execution_count": 147,
   "id": "001b8fa5",
   "metadata": {},
   "outputs": [
    {
     "data": {
      "text/plain": [
       "0        (47.0, 58.0]\n",
       "1        (38.0, 47.0]\n",
       "2        (47.0, 58.0]\n",
       "3      (17.999, 27.0]\n",
       "4        (47.0, 58.0]\n",
       "            ...      \n",
       "474      (27.0, 38.0]\n",
       "475      (27.0, 38.0]\n",
       "476      (38.0, 47.0]\n",
       "477      (38.0, 47.0]\n",
       "478      (38.0, 47.0]\n",
       "Name: age, Length: 479, dtype: category\n",
       "Categories (5, interval[float64, right]): [(17.999, 27.0] < (27.0, 38.0] < (38.0, 47.0] < (47.0, 58.0] < (58.0, 67.0]]"
      ]
     },
     "execution_count": 147,
     "metadata": {},
     "output_type": "execute_result"
    }
   ],
   "source": [
    "pd.qcut(df['age'], q=5)"
   ]
  },
  {
   "cell_type": "code",
   "execution_count": 148,
   "id": "8776c140",
   "metadata": {},
   "outputs": [
    {
     "name": "stdout",
     "output_type": "stream",
     "text": [
      "  age  sex  region income  married  children  car  save_act  current_act  \\\n",
      "0   4    0       0      2        0         1    0         0            0   \n",
      "1   3    1       3      4        1         3    1         0            1   \n",
      "2   4    0       0      2        1         0    1         1            1   \n",
      "3   1    0       3      2        1         3    0         0            1   \n",
      "4   4    0       1      6        1         0    0         1            0   \n",
      "\n",
      "   mortgage  pep  \n",
      "0         0    1  \n",
      "1         1    0  \n",
      "2         0    0  \n",
      "3         0    0  \n",
      "4         0    0  \n"
     ]
    }
   ],
   "source": [
    "df['age']=pd.cut(x=df['age'], bins=[17,27,38,47,58,67], \n",
    "                        labels=[1, 2, 3,4,5])\n",
    "print(df.head())"
   ]
  },
  {
   "cell_type": "code",
   "execution_count": 149,
   "id": "5218739b",
   "metadata": {},
   "outputs": [
    {
     "data": {
      "text/plain": [
       "age            category\n",
       "sex               int64\n",
       "region            int64\n",
       "income         category\n",
       "married           int64\n",
       "children          int64\n",
       "car               int64\n",
       "save_act          int64\n",
       "current_act       int64\n",
       "mortgage          int64\n",
       "pep               int64\n",
       "dtype: object"
      ]
     },
     "execution_count": 149,
     "metadata": {},
     "output_type": "execute_result"
    }
   ],
   "source": [
    "df.dtypes"
   ]
  },
  {
   "cell_type": "code",
   "execution_count": 109,
   "id": "8cc13772",
   "metadata": {},
   "outputs": [
    {
     "data": {
      "text/html": [
       "<div>\n",
       "<style scoped>\n",
       "    .dataframe tbody tr th:only-of-type {\n",
       "        vertical-align: middle;\n",
       "    }\n",
       "\n",
       "    .dataframe tbody tr th {\n",
       "        vertical-align: top;\n",
       "    }\n",
       "\n",
       "    .dataframe thead th {\n",
       "        text-align: right;\n",
       "    }\n",
       "</style>\n",
       "<table border=\"1\" class=\"dataframe\">\n",
       "  <thead>\n",
       "    <tr style=\"text-align: right;\">\n",
       "      <th></th>\n",
       "      <th>age</th>\n",
       "    </tr>\n",
       "  </thead>\n",
       "  <tbody>\n",
       "    <tr>\n",
       "      <th>0</th>\n",
       "      <td>4</td>\n",
       "    </tr>\n",
       "    <tr>\n",
       "      <th>1</th>\n",
       "      <td>3</td>\n",
       "    </tr>\n",
       "    <tr>\n",
       "      <th>2</th>\n",
       "      <td>4</td>\n",
       "    </tr>\n",
       "    <tr>\n",
       "      <th>3</th>\n",
       "      <td>1</td>\n",
       "    </tr>\n",
       "    <tr>\n",
       "      <th>4</th>\n",
       "      <td>4</td>\n",
       "    </tr>\n",
       "    <tr>\n",
       "      <th>...</th>\n",
       "      <td>...</td>\n",
       "    </tr>\n",
       "    <tr>\n",
       "      <th>474</th>\n",
       "      <td>2</td>\n",
       "    </tr>\n",
       "    <tr>\n",
       "      <th>475</th>\n",
       "      <td>2</td>\n",
       "    </tr>\n",
       "    <tr>\n",
       "      <th>476</th>\n",
       "      <td>3</td>\n",
       "    </tr>\n",
       "    <tr>\n",
       "      <th>477</th>\n",
       "      <td>3</td>\n",
       "    </tr>\n",
       "    <tr>\n",
       "      <th>478</th>\n",
       "      <td>3</td>\n",
       "    </tr>\n",
       "  </tbody>\n",
       "</table>\n",
       "<p>479 rows × 1 columns</p>\n",
       "</div>"
      ],
      "text/plain": [
       "     age\n",
       "0      4\n",
       "1      3\n",
       "2      4\n",
       "3      1\n",
       "4      4\n",
       "..   ...\n",
       "474    2\n",
       "475    2\n",
       "476    3\n",
       "477    3\n",
       "478    3\n",
       "\n",
       "[479 rows x 1 columns]"
      ]
     },
     "execution_count": 109,
     "metadata": {},
     "output_type": "execute_result"
    }
   ],
   "source": [
    "df.select_dtypes(include=['category']).astype('int')"
   ]
  },
  {
   "cell_type": "code",
   "execution_count": 150,
   "id": "e3554139",
   "metadata": {},
   "outputs": [
    {
     "data": {
      "text/plain": [
       "age            category\n",
       "sex               int64\n",
       "region            int64\n",
       "income         category\n",
       "married           int64\n",
       "children          int64\n",
       "car               int64\n",
       "save_act          int64\n",
       "current_act       int64\n",
       "mortgage          int64\n",
       "pep               int64\n",
       "dtype: object"
      ]
     },
     "execution_count": 150,
     "metadata": {},
     "output_type": "execute_result"
    }
   ],
   "source": [
    "df.dtypes"
   ]
  },
  {
   "cell_type": "code",
   "execution_count": 111,
   "id": "47fc8a9e",
   "metadata": {},
   "outputs": [],
   "source": [
    "c = df.select_dtypes(np.integer).columns\n",
    "df['age'] = df['age'].astype('int')"
   ]
  },
  {
   "cell_type": "code",
   "execution_count": 151,
   "id": "dedbd922",
   "metadata": {},
   "outputs": [
    {
     "data": {
      "text/plain": [
       "age            category\n",
       "sex               int64\n",
       "region            int64\n",
       "income         category\n",
       "married           int64\n",
       "children          int64\n",
       "car               int64\n",
       "save_act          int64\n",
       "current_act       int64\n",
       "mortgage          int64\n",
       "pep               int64\n",
       "dtype: object"
      ]
     },
     "execution_count": 151,
     "metadata": {},
     "output_type": "execute_result"
    }
   ],
   "source": [
    "df.dtypes"
   ]
  },
  {
   "cell_type": "code",
   "execution_count": 152,
   "id": "14e059eb",
   "metadata": {},
   "outputs": [],
   "source": [
    "X=df[df.columns[:-1]]\n",
    "Y=df[df.columns[-1:]]"
   ]
  },
  {
   "cell_type": "code",
   "execution_count": 153,
   "id": "c01c37fe",
   "metadata": {},
   "outputs": [
    {
     "data": {
      "text/html": [
       "<div>\n",
       "<style scoped>\n",
       "    .dataframe tbody tr th:only-of-type {\n",
       "        vertical-align: middle;\n",
       "    }\n",
       "\n",
       "    .dataframe tbody tr th {\n",
       "        vertical-align: top;\n",
       "    }\n",
       "\n",
       "    .dataframe thead th {\n",
       "        text-align: right;\n",
       "    }\n",
       "</style>\n",
       "<table border=\"1\" class=\"dataframe\">\n",
       "  <thead>\n",
       "    <tr style=\"text-align: right;\">\n",
       "      <th></th>\n",
       "      <th>age</th>\n",
       "      <th>sex</th>\n",
       "      <th>region</th>\n",
       "      <th>income</th>\n",
       "      <th>married</th>\n",
       "      <th>children</th>\n",
       "      <th>car</th>\n",
       "      <th>save_act</th>\n",
       "      <th>current_act</th>\n",
       "      <th>mortgage</th>\n",
       "    </tr>\n",
       "  </thead>\n",
       "  <tbody>\n",
       "    <tr>\n",
       "      <th>0</th>\n",
       "      <td>4</td>\n",
       "      <td>0</td>\n",
       "      <td>0</td>\n",
       "      <td>2</td>\n",
       "      <td>0</td>\n",
       "      <td>1</td>\n",
       "      <td>0</td>\n",
       "      <td>0</td>\n",
       "      <td>0</td>\n",
       "      <td>0</td>\n",
       "    </tr>\n",
       "    <tr>\n",
       "      <th>1</th>\n",
       "      <td>3</td>\n",
       "      <td>1</td>\n",
       "      <td>3</td>\n",
       "      <td>4</td>\n",
       "      <td>1</td>\n",
       "      <td>3</td>\n",
       "      <td>1</td>\n",
       "      <td>0</td>\n",
       "      <td>1</td>\n",
       "      <td>1</td>\n",
       "    </tr>\n",
       "    <tr>\n",
       "      <th>2</th>\n",
       "      <td>4</td>\n",
       "      <td>0</td>\n",
       "      <td>0</td>\n",
       "      <td>2</td>\n",
       "      <td>1</td>\n",
       "      <td>0</td>\n",
       "      <td>1</td>\n",
       "      <td>1</td>\n",
       "      <td>1</td>\n",
       "      <td>0</td>\n",
       "    </tr>\n",
       "    <tr>\n",
       "      <th>3</th>\n",
       "      <td>1</td>\n",
       "      <td>0</td>\n",
       "      <td>3</td>\n",
       "      <td>2</td>\n",
       "      <td>1</td>\n",
       "      <td>3</td>\n",
       "      <td>0</td>\n",
       "      <td>0</td>\n",
       "      <td>1</td>\n",
       "      <td>0</td>\n",
       "    </tr>\n",
       "    <tr>\n",
       "      <th>4</th>\n",
       "      <td>4</td>\n",
       "      <td>0</td>\n",
       "      <td>1</td>\n",
       "      <td>6</td>\n",
       "      <td>1</td>\n",
       "      <td>0</td>\n",
       "      <td>0</td>\n",
       "      <td>1</td>\n",
       "      <td>0</td>\n",
       "      <td>0</td>\n",
       "    </tr>\n",
       "  </tbody>\n",
       "</table>\n",
       "</div>"
      ],
      "text/plain": [
       "  age  sex  region income  married  children  car  save_act  current_act  \\\n",
       "0   4    0       0      2        0         1    0         0            0   \n",
       "1   3    1       3      4        1         3    1         0            1   \n",
       "2   4    0       0      2        1         0    1         1            1   \n",
       "3   1    0       3      2        1         3    0         0            1   \n",
       "4   4    0       1      6        1         0    0         1            0   \n",
       "\n",
       "   mortgage  \n",
       "0         0  \n",
       "1         1  \n",
       "2         0  \n",
       "3         0  \n",
       "4         0  "
      ]
     },
     "execution_count": 153,
     "metadata": {},
     "output_type": "execute_result"
    }
   ],
   "source": [
    "X.head()"
   ]
  },
  {
   "cell_type": "code",
   "execution_count": 154,
   "id": "b7b65310",
   "metadata": {},
   "outputs": [
    {
     "data": {
      "text/html": [
       "<div>\n",
       "<style scoped>\n",
       "    .dataframe tbody tr th:only-of-type {\n",
       "        vertical-align: middle;\n",
       "    }\n",
       "\n",
       "    .dataframe tbody tr th {\n",
       "        vertical-align: top;\n",
       "    }\n",
       "\n",
       "    .dataframe thead th {\n",
       "        text-align: right;\n",
       "    }\n",
       "</style>\n",
       "<table border=\"1\" class=\"dataframe\">\n",
       "  <thead>\n",
       "    <tr style=\"text-align: right;\">\n",
       "      <th></th>\n",
       "      <th>pep</th>\n",
       "    </tr>\n",
       "  </thead>\n",
       "  <tbody>\n",
       "    <tr>\n",
       "      <th>0</th>\n",
       "      <td>1</td>\n",
       "    </tr>\n",
       "    <tr>\n",
       "      <th>1</th>\n",
       "      <td>0</td>\n",
       "    </tr>\n",
       "    <tr>\n",
       "      <th>2</th>\n",
       "      <td>0</td>\n",
       "    </tr>\n",
       "    <tr>\n",
       "      <th>3</th>\n",
       "      <td>0</td>\n",
       "    </tr>\n",
       "    <tr>\n",
       "      <th>4</th>\n",
       "      <td>0</td>\n",
       "    </tr>\n",
       "  </tbody>\n",
       "</table>\n",
       "</div>"
      ],
      "text/plain": [
       "   pep\n",
       "0    1\n",
       "1    0\n",
       "2    0\n",
       "3    0\n",
       "4    0"
      ]
     },
     "execution_count": 154,
     "metadata": {},
     "output_type": "execute_result"
    }
   ],
   "source": [
    "Y.head()"
   ]
  },
  {
   "cell_type": "code",
   "execution_count": 155,
   "id": "3a2f2a0a",
   "metadata": {},
   "outputs": [],
   "source": [
    "from sklearn.model_selection import train_test_split\n",
    "X_train,X_test,Y_train,Y_test=train_test_split(X,Y,random_state=30,test_size=0.2)"
   ]
  },
  {
   "cell_type": "code",
   "execution_count": 156,
   "id": "26d0918f",
   "metadata": {},
   "outputs": [
    {
     "name": "stderr",
     "output_type": "stream",
     "text": [
      "/opt/anaconda3/lib/python3.9/site-packages/sklearn/utils/validation.py:1111: DataConversionWarning: A column-vector y was passed when a 1d array was expected. Please change the shape of y to (n_samples, ), for example using ravel().\n",
      "  y = column_or_1d(y, warn=True)\n"
     ]
    },
    {
     "data": {
      "text/html": [
       "<style>#sk-container-id-5 {color: black;background-color: white;}#sk-container-id-5 pre{padding: 0;}#sk-container-id-5 div.sk-toggleable {background-color: white;}#sk-container-id-5 label.sk-toggleable__label {cursor: pointer;display: block;width: 100%;margin-bottom: 0;padding: 0.3em;box-sizing: border-box;text-align: center;}#sk-container-id-5 label.sk-toggleable__label-arrow:before {content: \"▸\";float: left;margin-right: 0.25em;color: #696969;}#sk-container-id-5 label.sk-toggleable__label-arrow:hover:before {color: black;}#sk-container-id-5 div.sk-estimator:hover label.sk-toggleable__label-arrow:before {color: black;}#sk-container-id-5 div.sk-toggleable__content {max-height: 0;max-width: 0;overflow: hidden;text-align: left;background-color: #f0f8ff;}#sk-container-id-5 div.sk-toggleable__content pre {margin: 0.2em;color: black;border-radius: 0.25em;background-color: #f0f8ff;}#sk-container-id-5 input.sk-toggleable__control:checked~div.sk-toggleable__content {max-height: 200px;max-width: 100%;overflow: auto;}#sk-container-id-5 input.sk-toggleable__control:checked~label.sk-toggleable__label-arrow:before {content: \"▾\";}#sk-container-id-5 div.sk-estimator input.sk-toggleable__control:checked~label.sk-toggleable__label {background-color: #d4ebff;}#sk-container-id-5 div.sk-label input.sk-toggleable__control:checked~label.sk-toggleable__label {background-color: #d4ebff;}#sk-container-id-5 input.sk-hidden--visually {border: 0;clip: rect(1px 1px 1px 1px);clip: rect(1px, 1px, 1px, 1px);height: 1px;margin: -1px;overflow: hidden;padding: 0;position: absolute;width: 1px;}#sk-container-id-5 div.sk-estimator {font-family: monospace;background-color: #f0f8ff;border: 1px dotted black;border-radius: 0.25em;box-sizing: border-box;margin-bottom: 0.5em;}#sk-container-id-5 div.sk-estimator:hover {background-color: #d4ebff;}#sk-container-id-5 div.sk-parallel-item::after {content: \"\";width: 100%;border-bottom: 1px solid gray;flex-grow: 1;}#sk-container-id-5 div.sk-label:hover label.sk-toggleable__label {background-color: #d4ebff;}#sk-container-id-5 div.sk-serial::before {content: \"\";position: absolute;border-left: 1px solid gray;box-sizing: border-box;top: 0;bottom: 0;left: 50%;z-index: 0;}#sk-container-id-5 div.sk-serial {display: flex;flex-direction: column;align-items: center;background-color: white;padding-right: 0.2em;padding-left: 0.2em;position: relative;}#sk-container-id-5 div.sk-item {position: relative;z-index: 1;}#sk-container-id-5 div.sk-parallel {display: flex;align-items: stretch;justify-content: center;background-color: white;position: relative;}#sk-container-id-5 div.sk-item::before, #sk-container-id-5 div.sk-parallel-item::before {content: \"\";position: absolute;border-left: 1px solid gray;box-sizing: border-box;top: 0;bottom: 0;left: 50%;z-index: -1;}#sk-container-id-5 div.sk-parallel-item {display: flex;flex-direction: column;z-index: 1;position: relative;background-color: white;}#sk-container-id-5 div.sk-parallel-item:first-child::after {align-self: flex-end;width: 50%;}#sk-container-id-5 div.sk-parallel-item:last-child::after {align-self: flex-start;width: 50%;}#sk-container-id-5 div.sk-parallel-item:only-child::after {width: 0;}#sk-container-id-5 div.sk-dashed-wrapped {border: 1px dashed gray;margin: 0 0.4em 0.5em 0.4em;box-sizing: border-box;padding-bottom: 0.4em;background-color: white;}#sk-container-id-5 div.sk-label label {font-family: monospace;font-weight: bold;display: inline-block;line-height: 1.2em;}#sk-container-id-5 div.sk-label-container {text-align: center;}#sk-container-id-5 div.sk-container {/* jupyter's `normalize.less` sets `[hidden] { display: none; }` but bootstrap.min.css set `[hidden] { display: none !important; }` so we also need the `!important` here to be able to override the default hidden behavior on the sphinx rendered scikit-learn.org. See: https://github.com/scikit-learn/scikit-learn/issues/21755 */display: inline-block !important;position: relative;}#sk-container-id-5 div.sk-text-repr-fallback {display: none;}</style><div id=\"sk-container-id-5\" class=\"sk-top-container\"><div class=\"sk-text-repr-fallback\"><pre>CategoricalNB()</pre><b>In a Jupyter environment, please rerun this cell to show the HTML representation or trust the notebook. <br />On GitHub, the HTML representation is unable to render, please try loading this page with nbviewer.org.</b></div><div class=\"sk-container\" hidden><div class=\"sk-item\"><div class=\"sk-estimator sk-toggleable\"><input class=\"sk-toggleable__control sk-hidden--visually\" id=\"sk-estimator-id-5\" type=\"checkbox\" checked><label for=\"sk-estimator-id-5\" class=\"sk-toggleable__label sk-toggleable__label-arrow\">CategoricalNB</label><div class=\"sk-toggleable__content\"><pre>CategoricalNB()</pre></div></div></div></div></div>"
      ],
      "text/plain": [
       "CategoricalNB()"
      ]
     },
     "execution_count": 156,
     "metadata": {},
     "output_type": "execute_result"
    }
   ],
   "source": [
    "from sklearn.naive_bayes import CategoricalNB\n",
    "gnb=CategoricalNB()\n",
    "gnb.fit(X_train,Y_train)"
   ]
  },
  {
   "cell_type": "code",
   "execution_count": 157,
   "id": "44f9e2cf",
   "metadata": {},
   "outputs": [
    {
     "data": {
      "text/plain": [
       "[4, 3, 1, 2, 5]\n",
       "Categories (5, int64): [1 < 2 < 3 < 4 < 5]"
      ]
     },
     "execution_count": 157,
     "metadata": {},
     "output_type": "execute_result"
    }
   ],
   "source": [
    "df.age.unique()"
   ]
  },
  {
   "cell_type": "code",
   "execution_count": 158,
   "id": "1600d708",
   "metadata": {},
   "outputs": [
    {
     "data": {
      "text/plain": [
       "age            category\n",
       "sex               int64\n",
       "region            int64\n",
       "income         category\n",
       "married           int64\n",
       "children          int64\n",
       "car               int64\n",
       "save_act          int64\n",
       "current_act       int64\n",
       "mortgage          int64\n",
       "pep               int64\n",
       "dtype: object"
      ]
     },
     "execution_count": 158,
     "metadata": {},
     "output_type": "execute_result"
    }
   ],
   "source": [
    "df.dtypes"
   ]
  },
  {
   "cell_type": "code",
   "execution_count": 159,
   "id": "b30aa642",
   "metadata": {},
   "outputs": [],
   "source": [
    "predictions=gnb.predict(X_test)"
   ]
  },
  {
   "cell_type": "code",
   "execution_count": 160,
   "id": "0c6f7c83",
   "metadata": {},
   "outputs": [
    {
     "name": "stdout",
     "output_type": "stream",
     "text": [
      "              precision    recall  f1-score   support\n",
      "\n",
      "           0       0.69      0.71      0.70        51\n",
      "           1       0.66      0.64      0.65        45\n",
      "\n",
      "    accuracy                           0.68        96\n",
      "   macro avg       0.68      0.68      0.68        96\n",
      "weighted avg       0.68      0.68      0.68        96\n",
      "\n",
      "Confusion Matrix\n",
      "[[36 15]\n",
      " [16 29]]\n",
      "\n",
      " Accuracy\n",
      "0.6770833333333334\n"
     ]
    }
   ],
   "source": [
    "from sklearn.metrics import classification_report,confusion_matrix \n",
    "from sklearn.metrics import accuracy_score\n",
    "from sklearn.model_selection import cross_val_score\n",
    "\n",
    "print (classification_report (Y_test, predictions))\n",
    "print (\"Confusion Matrix\") \n",
    "print (confusion_matrix (Y_test, predictions))\n",
    "print(\"\\n Accuracy\") \n",
    "print (accuracy_score (Y_test, predictions))"
   ]
  },
  {
   "cell_type": "markdown",
   "id": "5333d6eb",
   "metadata": {},
   "source": [
    "<h3><b> I have all attributes to categorical values and later applied Categorial Naive Bayes. There is no package in  sklearn which uses both categorical and continuous attribute for naiove bayes. If there was some library we can use that and push age and income for numerical and others to categorical </b></h3>\n"
   ]
  },
  {
   "cell_type": "code",
   "execution_count": 166,
   "id": "344dbed2",
   "metadata": {},
   "outputs": [
    {
     "data": {
      "text/html": [
       "<div>\n",
       "<style scoped>\n",
       "    .dataframe tbody tr th:only-of-type {\n",
       "        vertical-align: middle;\n",
       "    }\n",
       "\n",
       "    .dataframe tbody tr th {\n",
       "        vertical-align: top;\n",
       "    }\n",
       "\n",
       "    .dataframe thead th {\n",
       "        text-align: right;\n",
       "    }\n",
       "</style>\n",
       "<table border=\"1\" class=\"dataframe\">\n",
       "  <thead>\n",
       "    <tr style=\"text-align: right;\">\n",
       "      <th></th>\n",
       "      <th>sex</th>\n",
       "      <th>region</th>\n",
       "      <th>married</th>\n",
       "      <th>children</th>\n",
       "      <th>car</th>\n",
       "      <th>save_act</th>\n",
       "      <th>current_act</th>\n",
       "      <th>mortgage</th>\n",
       "    </tr>\n",
       "  </thead>\n",
       "  <tbody>\n",
       "    <tr>\n",
       "      <th>sex</th>\n",
       "      <td>1.000000</td>\n",
       "      <td>-0.025683</td>\n",
       "      <td>0.013560</td>\n",
       "      <td>-0.004089</td>\n",
       "      <td>0.061259</td>\n",
       "      <td>0.012936</td>\n",
       "      <td>-0.033821</td>\n",
       "      <td>0.070235</td>\n",
       "    </tr>\n",
       "    <tr>\n",
       "      <th>region</th>\n",
       "      <td>-0.025683</td>\n",
       "      <td>1.000000</td>\n",
       "      <td>-0.003875</td>\n",
       "      <td>0.029435</td>\n",
       "      <td>-0.004216</td>\n",
       "      <td>0.072585</td>\n",
       "      <td>0.013958</td>\n",
       "      <td>0.014856</td>\n",
       "    </tr>\n",
       "    <tr>\n",
       "      <th>married</th>\n",
       "      <td>0.013560</td>\n",
       "      <td>-0.003875</td>\n",
       "      <td>1.000000</td>\n",
       "      <td>-0.031679</td>\n",
       "      <td>-0.043234</td>\n",
       "      <td>0.049677</td>\n",
       "      <td>-0.038228</td>\n",
       "      <td>-0.001784</td>\n",
       "    </tr>\n",
       "    <tr>\n",
       "      <th>children</th>\n",
       "      <td>-0.004089</td>\n",
       "      <td>0.029435</td>\n",
       "      <td>-0.031679</td>\n",
       "      <td>1.000000</td>\n",
       "      <td>0.039704</td>\n",
       "      <td>0.013860</td>\n",
       "      <td>-0.032741</td>\n",
       "      <td>-0.047236</td>\n",
       "    </tr>\n",
       "    <tr>\n",
       "      <th>car</th>\n",
       "      <td>0.061259</td>\n",
       "      <td>-0.004216</td>\n",
       "      <td>-0.043234</td>\n",
       "      <td>0.039704</td>\n",
       "      <td>1.000000</td>\n",
       "      <td>0.011336</td>\n",
       "      <td>-0.034494</td>\n",
       "      <td>-0.005357</td>\n",
       "    </tr>\n",
       "    <tr>\n",
       "      <th>save_act</th>\n",
       "      <td>0.012936</td>\n",
       "      <td>0.072585</td>\n",
       "      <td>0.049677</td>\n",
       "      <td>0.013860</td>\n",
       "      <td>0.011336</td>\n",
       "      <td>1.000000</td>\n",
       "      <td>0.038640</td>\n",
       "      <td>0.013255</td>\n",
       "    </tr>\n",
       "    <tr>\n",
       "      <th>current_act</th>\n",
       "      <td>-0.033821</td>\n",
       "      <td>0.013958</td>\n",
       "      <td>-0.038228</td>\n",
       "      <td>-0.032741</td>\n",
       "      <td>-0.034494</td>\n",
       "      <td>0.038640</td>\n",
       "      <td>1.000000</td>\n",
       "      <td>-0.026433</td>\n",
       "    </tr>\n",
       "    <tr>\n",
       "      <th>mortgage</th>\n",
       "      <td>0.070235</td>\n",
       "      <td>0.014856</td>\n",
       "      <td>-0.001784</td>\n",
       "      <td>-0.047236</td>\n",
       "      <td>-0.005357</td>\n",
       "      <td>0.013255</td>\n",
       "      <td>-0.026433</td>\n",
       "      <td>1.000000</td>\n",
       "    </tr>\n",
       "  </tbody>\n",
       "</table>\n",
       "</div>"
      ],
      "text/plain": [
       "                  sex    region   married  children       car  save_act  \\\n",
       "sex          1.000000 -0.025683  0.013560 -0.004089  0.061259  0.012936   \n",
       "region      -0.025683  1.000000 -0.003875  0.029435 -0.004216  0.072585   \n",
       "married      0.013560 -0.003875  1.000000 -0.031679 -0.043234  0.049677   \n",
       "children    -0.004089  0.029435 -0.031679  1.000000  0.039704  0.013860   \n",
       "car          0.061259 -0.004216 -0.043234  0.039704  1.000000  0.011336   \n",
       "save_act     0.012936  0.072585  0.049677  0.013860  0.011336  1.000000   \n",
       "current_act -0.033821  0.013958 -0.038228 -0.032741 -0.034494  0.038640   \n",
       "mortgage     0.070235  0.014856 -0.001784 -0.047236 -0.005357  0.013255   \n",
       "\n",
       "             current_act  mortgage  \n",
       "sex            -0.033821  0.070235  \n",
       "region          0.013958  0.014856  \n",
       "married        -0.038228 -0.001784  \n",
       "children       -0.032741 -0.047236  \n",
       "car            -0.034494 -0.005357  \n",
       "save_act        0.038640  0.013255  \n",
       "current_act     1.000000 -0.026433  \n",
       "mortgage       -0.026433  1.000000  "
      ]
     },
     "execution_count": 166,
     "metadata": {},
     "output_type": "execute_result"
    }
   ],
   "source": [
    "X.corr() # No correlation is too high "
   ]
  },
  {
   "cell_type": "code",
   "execution_count": null,
   "id": "5394f4b8",
   "metadata": {},
   "outputs": [],
   "source": []
  }
 ],
 "metadata": {
  "kernelspec": {
   "display_name": "Python 3 (ipykernel)",
   "language": "python",
   "name": "python3"
  },
  "language_info": {
   "codemirror_mode": {
    "name": "ipython",
    "version": 3
   },
   "file_extension": ".py",
   "mimetype": "text/x-python",
   "name": "python",
   "nbconvert_exporter": "python",
   "pygments_lexer": "ipython3",
   "version": "3.9.13"
  }
 },
 "nbformat": 4,
 "nbformat_minor": 5
}
