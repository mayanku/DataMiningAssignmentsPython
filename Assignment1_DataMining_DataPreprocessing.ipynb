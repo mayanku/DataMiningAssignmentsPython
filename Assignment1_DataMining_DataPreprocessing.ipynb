{
 "cells": [
  {
   "cell_type": "code",
   "execution_count": 81,
   "id": "6def47f3",
   "metadata": {},
   "outputs": [],
   "source": [
    "import numpy as np"
   ]
  },
  {
   "cell_type": "code",
   "execution_count": 82,
   "id": "0e9fa728",
   "metadata": {},
   "outputs": [],
   "source": [
    "import pandas as pd"
   ]
  },
  {
   "cell_type": "code",
   "execution_count": 83,
   "id": "d4a2f98f",
   "metadata": {},
   "outputs": [
    {
     "data": {
      "text/plain": [
       "[1, 2, 3]"
      ]
     },
     "execution_count": 83,
     "metadata": {},
     "output_type": "execute_result"
    }
   ],
   "source": [
    "mylist=[1,2,3]\n",
    "mylist"
   ]
  },
  {
   "cell_type": "code",
   "execution_count": 84,
   "id": "1f18b15a",
   "metadata": {},
   "outputs": [
    {
     "data": {
      "text/plain": [
       "array([1, 2, 3])"
      ]
     },
     "execution_count": 84,
     "metadata": {},
     "output_type": "execute_result"
    }
   ],
   "source": [
    "np.array(mylist)"
   ]
  },
  {
   "cell_type": "code",
   "execution_count": 85,
   "id": "2c77f811",
   "metadata": {},
   "outputs": [
    {
     "data": {
      "text/plain": [
       "array([[ 1,  2,  3],\n",
       "       [ 4,  8,  5],\n",
       "       [34, 53, 23]])"
      ]
     },
     "execution_count": 85,
     "metadata": {},
     "output_type": "execute_result"
    }
   ],
   "source": [
    "my_matrix=[[1,2,3],[4,8,5],[34,53,23]]\n",
    "my_matrix\n",
    "np.array(my_matrix)"
   ]
  },
  {
   "cell_type": "code",
   "execution_count": 86,
   "id": "44b0add4",
   "metadata": {},
   "outputs": [
    {
     "data": {
      "text/plain": [
       "array([ 0,  2,  4,  6,  8, 10])"
      ]
     },
     "execution_count": 86,
     "metadata": {},
     "output_type": "execute_result"
    }
   ],
   "source": [
    "np.arange(0,11,2)"
   ]
  },
  {
   "cell_type": "code",
   "execution_count": 87,
   "id": "28e09371",
   "metadata": {},
   "outputs": [
    {
     "data": {
      "text/plain": [
       "array([0., 0., 0.])"
      ]
     },
     "execution_count": 87,
     "metadata": {},
     "output_type": "execute_result"
    }
   ],
   "source": [
    "np.zeros(3)"
   ]
  },
  {
   "cell_type": "code",
   "execution_count": 88,
   "id": "b2e8fe18",
   "metadata": {},
   "outputs": [
    {
     "data": {
      "text/plain": [
       "array([[0., 0., 0., 0., 0.],\n",
       "       [0., 0., 0., 0., 0.],\n",
       "       [0., 0., 0., 0., 0.],\n",
       "       [0., 0., 0., 0., 0.],\n",
       "       [0., 0., 0., 0., 0.]])"
      ]
     },
     "execution_count": 88,
     "metadata": {},
     "output_type": "execute_result"
    }
   ],
   "source": [
    "np.zeros((5,5))"
   ]
  },
  {
   "cell_type": "code",
   "execution_count": 89,
   "id": "a8fe8df3",
   "metadata": {},
   "outputs": [
    {
     "data": {
      "text/plain": [
       "array([1., 1., 1.])"
      ]
     },
     "execution_count": 89,
     "metadata": {},
     "output_type": "execute_result"
    }
   ],
   "source": [
    "np.ones(3)"
   ]
  },
  {
   "cell_type": "code",
   "execution_count": 90,
   "id": "25990347",
   "metadata": {},
   "outputs": [
    {
     "data": {
      "text/plain": [
       "array([[1., 1., 1.],\n",
       "       [1., 1., 1.],\n",
       "       [1., 1., 1.]])"
      ]
     },
     "execution_count": 90,
     "metadata": {},
     "output_type": "execute_result"
    }
   ],
   "source": [
    "np.ones((3,3))"
   ]
  },
  {
   "cell_type": "code",
   "execution_count": 91,
   "id": "9efc217a",
   "metadata": {},
   "outputs": [
    {
     "data": {
      "text/plain": [
       "array([0.26797157, 0.10590551])"
      ]
     },
     "execution_count": 91,
     "metadata": {},
     "output_type": "execute_result"
    }
   ],
   "source": [
    "np.random.rand(2)"
   ]
  },
  {
   "cell_type": "code",
   "execution_count": 92,
   "id": "f51caac8",
   "metadata": {},
   "outputs": [
    {
     "data": {
      "text/plain": [
       "array([[0.6060473 , 0.08805266, 0.46940804, 0.29614602, 0.68838024],\n",
       "       [0.91469531, 0.18140294, 0.02322721, 0.49239563, 0.79863989],\n",
       "       [0.11247569, 0.51091699, 0.64136167, 0.03989059, 0.43963241],\n",
       "       [0.98407481, 0.18785103, 0.54910079, 0.05371721, 0.6051552 ],\n",
       "       [0.29057867, 0.32549038, 0.45830323, 0.61890596, 0.05062568]])"
      ]
     },
     "execution_count": 92,
     "metadata": {},
     "output_type": "execute_result"
    }
   ],
   "source": [
    "np.random.rand(5,5)"
   ]
  },
  {
   "cell_type": "code",
   "execution_count": 93,
   "id": "f522602e",
   "metadata": {},
   "outputs": [
    {
     "data": {
      "text/plain": [
       "array([-1.07024174, -0.58099128])"
      ]
     },
     "execution_count": 93,
     "metadata": {},
     "output_type": "execute_result"
    }
   ],
   "source": [
    "np.random.randn(2)"
   ]
  },
  {
   "cell_type": "code",
   "execution_count": 94,
   "id": "a0fe6315",
   "metadata": {},
   "outputs": [
    {
     "data": {
      "text/plain": [
       "array([[ 1.97693401, -0.33829848,  0.86659088, -1.20241493,  0.16302319],\n",
       "       [ 0.08830325, -0.23915711, -1.51812356, -0.58256159,  0.43986113],\n",
       "       [ 0.90373585,  1.82600606,  1.36890364,  1.12046886, -0.3946794 ],\n",
       "       [ 1.42251164,  0.25827754, -0.81997468, -1.11765965, -0.63327229],\n",
       "       [-0.78467073,  1.00021393, -0.76636316,  2.02266094,  0.41165009]])"
      ]
     },
     "execution_count": 94,
     "metadata": {},
     "output_type": "execute_result"
    }
   ],
   "source": [
    "np.random.randn(5,5)"
   ]
  },
  {
   "cell_type": "code",
   "execution_count": 95,
   "id": "dc89cf9f",
   "metadata": {},
   "outputs": [
    {
     "data": {
      "text/plain": [
       "44"
      ]
     },
     "execution_count": 95,
     "metadata": {},
     "output_type": "execute_result"
    }
   ],
   "source": [
    "np.random.randint(100)"
   ]
  },
  {
   "cell_type": "code",
   "execution_count": 96,
   "id": "295e02a3",
   "metadata": {},
   "outputs": [
    {
     "data": {
      "text/plain": [
       "array([[ 0,  1,  2,  3,  4],\n",
       "       [ 5,  6,  7,  8,  9],\n",
       "       [10, 11, 12, 13, 14],\n",
       "       [15, 16, 17, 18, 19],\n",
       "       [20, 21, 22, 23, 24]])"
      ]
     },
     "execution_count": 96,
     "metadata": {},
     "output_type": "execute_result"
    }
   ],
   "source": [
    "arr=np.arange(0,25)\n",
    "arr.reshape(5,5)"
   ]
  },
  {
   "cell_type": "code",
   "execution_count": 97,
   "id": "60514c29",
   "metadata": {},
   "outputs": [
    {
     "name": "stdout",
     "output_type": "stream",
     "text": [
      "24\n"
     ]
    }
   ],
   "source": [
    "print(arr.max())"
   ]
  },
  {
   "cell_type": "code",
   "execution_count": 112,
   "id": "ab71a686",
   "metadata": {},
   "outputs": [
    {
     "name": "stdout",
     "output_type": "stream",
     "text": [
      "RangeIndex(start=0, stop=150, step=1)\n"
     ]
    }
   ],
   "source": [
    "import pandas as pd\n",
    "import numpy as np\n",
    "lis=['sepal length in cm','sepal width in cm','petal length in cm','petal width in cm','class']\n",
    "df=pd.read_csv('/Users/mayank/Downloads/Lab1-20221008/iris_data_with_missing_values.csv',names=lis)\n",
    "print(df.index)"
   ]
  },
  {
   "cell_type": "code",
   "execution_count": 113,
   "id": "76c20e1d",
   "metadata": {},
   "outputs": [
    {
     "data": {
      "text/html": [
       "<div>\n",
       "<style scoped>\n",
       "    .dataframe tbody tr th:only-of-type {\n",
       "        vertical-align: middle;\n",
       "    }\n",
       "\n",
       "    .dataframe tbody tr th {\n",
       "        vertical-align: top;\n",
       "    }\n",
       "\n",
       "    .dataframe thead th {\n",
       "        text-align: right;\n",
       "    }\n",
       "</style>\n",
       "<table border=\"1\" class=\"dataframe\">\n",
       "  <thead>\n",
       "    <tr style=\"text-align: right;\">\n",
       "      <th></th>\n",
       "      <th>sepal length in cm</th>\n",
       "      <th>sepal width in cm</th>\n",
       "      <th>petal length in cm</th>\n",
       "      <th>petal width in cm</th>\n",
       "      <th>class</th>\n",
       "    </tr>\n",
       "  </thead>\n",
       "  <tbody>\n",
       "    <tr>\n",
       "      <th>0</th>\n",
       "      <td>5.1</td>\n",
       "      <td>3.5</td>\n",
       "      <td>1.4</td>\n",
       "      <td>0.2</td>\n",
       "      <td>Iris-setosa</td>\n",
       "    </tr>\n",
       "    <tr>\n",
       "      <th>1</th>\n",
       "      <td>4.9</td>\n",
       "      <td>3.0</td>\n",
       "      <td>1.4</td>\n",
       "      <td>0.2</td>\n",
       "      <td>Iris-setosa</td>\n",
       "    </tr>\n",
       "    <tr>\n",
       "      <th>2</th>\n",
       "      <td>4.7</td>\n",
       "      <td>3.2</td>\n",
       "      <td>1.3</td>\n",
       "      <td>0.2</td>\n",
       "      <td>Iris-setosa</td>\n",
       "    </tr>\n",
       "    <tr>\n",
       "      <th>3</th>\n",
       "      <td>4.6</td>\n",
       "      <td>3.1</td>\n",
       "      <td>1.5</td>\n",
       "      <td>0.2</td>\n",
       "      <td>Iris-setosa</td>\n",
       "    </tr>\n",
       "    <tr>\n",
       "      <th>4</th>\n",
       "      <td>5.0</td>\n",
       "      <td>3.6</td>\n",
       "      <td>1.4</td>\n",
       "      <td>0.2</td>\n",
       "      <td>Iris-setosa</td>\n",
       "    </tr>\n",
       "  </tbody>\n",
       "</table>\n",
       "</div>"
      ],
      "text/plain": [
       "   sepal length in cm  sepal width in cm  petal length in cm  \\\n",
       "0                 5.1                3.5                 1.4   \n",
       "1                 4.9                3.0                 1.4   \n",
       "2                 4.7                3.2                 1.3   \n",
       "3                 4.6                3.1                 1.5   \n",
       "4                 5.0                3.6                 1.4   \n",
       "\n",
       "   petal width in cm        class  \n",
       "0                0.2  Iris-setosa  \n",
       "1                0.2  Iris-setosa  \n",
       "2                0.2  Iris-setosa  \n",
       "3                0.2  Iris-setosa  \n",
       "4                0.2  Iris-setosa  "
      ]
     },
     "execution_count": 113,
     "metadata": {},
     "output_type": "execute_result"
    }
   ],
   "source": [
    "df.head()"
   ]
  },
  {
   "cell_type": "code",
   "execution_count": 114,
   "id": "3cf61867",
   "metadata": {},
   "outputs": [
    {
     "data": {
      "text/html": [
       "<div>\n",
       "<style scoped>\n",
       "    .dataframe tbody tr th:only-of-type {\n",
       "        vertical-align: middle;\n",
       "    }\n",
       "\n",
       "    .dataframe tbody tr th {\n",
       "        vertical-align: top;\n",
       "    }\n",
       "\n",
       "    .dataframe thead th {\n",
       "        text-align: right;\n",
       "    }\n",
       "</style>\n",
       "<table border=\"1\" class=\"dataframe\">\n",
       "  <thead>\n",
       "    <tr style=\"text-align: right;\">\n",
       "      <th></th>\n",
       "      <th>sepal length in cm</th>\n",
       "      <th>sepal width in cm</th>\n",
       "      <th>petal length in cm</th>\n",
       "      <th>petal width in cm</th>\n",
       "      <th>class</th>\n",
       "    </tr>\n",
       "  </thead>\n",
       "  <tbody>\n",
       "    <tr>\n",
       "      <th>0</th>\n",
       "      <td>5.1</td>\n",
       "      <td>3.5</td>\n",
       "      <td>1.4</td>\n",
       "      <td>0.2</td>\n",
       "      <td>Iris-setosa</td>\n",
       "    </tr>\n",
       "    <tr>\n",
       "      <th>1</th>\n",
       "      <td>4.9</td>\n",
       "      <td>3.0</td>\n",
       "      <td>1.4</td>\n",
       "      <td>0.2</td>\n",
       "      <td>Iris-setosa</td>\n",
       "    </tr>\n",
       "    <tr>\n",
       "      <th>2</th>\n",
       "      <td>4.7</td>\n",
       "      <td>3.2</td>\n",
       "      <td>1.3</td>\n",
       "      <td>0.2</td>\n",
       "      <td>Iris-setosa</td>\n",
       "    </tr>\n",
       "    <tr>\n",
       "      <th>3</th>\n",
       "      <td>4.6</td>\n",
       "      <td>3.1</td>\n",
       "      <td>1.5</td>\n",
       "      <td>0.2</td>\n",
       "      <td>Iris-setosa</td>\n",
       "    </tr>\n",
       "    <tr>\n",
       "      <th>4</th>\n",
       "      <td>5.0</td>\n",
       "      <td>3.6</td>\n",
       "      <td>1.4</td>\n",
       "      <td>0.2</td>\n",
       "      <td>Iris-setosa</td>\n",
       "    </tr>\n",
       "    <tr>\n",
       "      <th>5</th>\n",
       "      <td>5.4</td>\n",
       "      <td>3.9</td>\n",
       "      <td>1.7</td>\n",
       "      <td>0.4</td>\n",
       "      <td>Iris-setosa</td>\n",
       "    </tr>\n",
       "    <tr>\n",
       "      <th>6</th>\n",
       "      <td>4.6</td>\n",
       "      <td>3.4</td>\n",
       "      <td>1.4</td>\n",
       "      <td>0.3</td>\n",
       "      <td>Iris-setosa</td>\n",
       "    </tr>\n",
       "    <tr>\n",
       "      <th>7</th>\n",
       "      <td>5.0</td>\n",
       "      <td>3.4</td>\n",
       "      <td>10.0</td>\n",
       "      <td>0.2</td>\n",
       "      <td>Iris-setosa</td>\n",
       "    </tr>\n",
       "    <tr>\n",
       "      <th>8</th>\n",
       "      <td>4.4</td>\n",
       "      <td>2.9</td>\n",
       "      <td>1.4</td>\n",
       "      <td>0.2</td>\n",
       "      <td>Iris-setosa</td>\n",
       "    </tr>\n",
       "    <tr>\n",
       "      <th>9</th>\n",
       "      <td>4.9</td>\n",
       "      <td>3.1</td>\n",
       "      <td>1.5</td>\n",
       "      <td>0.1</td>\n",
       "      <td>Iris-setosa</td>\n",
       "    </tr>\n",
       "    <tr>\n",
       "      <th>10</th>\n",
       "      <td>5.4</td>\n",
       "      <td>3.7</td>\n",
       "      <td>1.5</td>\n",
       "      <td>0.2</td>\n",
       "      <td>Iris-setosa</td>\n",
       "    </tr>\n",
       "    <tr>\n",
       "      <th>11</th>\n",
       "      <td>4.8</td>\n",
       "      <td>3.4</td>\n",
       "      <td>1.6</td>\n",
       "      <td>0.2</td>\n",
       "      <td>Iris-setosa</td>\n",
       "    </tr>\n",
       "    <tr>\n",
       "      <th>12</th>\n",
       "      <td>4.8</td>\n",
       "      <td>3.0</td>\n",
       "      <td>1.4</td>\n",
       "      <td>0.1</td>\n",
       "      <td>Iris-setosa</td>\n",
       "    </tr>\n",
       "    <tr>\n",
       "      <th>13</th>\n",
       "      <td>4.3</td>\n",
       "      <td>3.0</td>\n",
       "      <td>1.1</td>\n",
       "      <td>0.1</td>\n",
       "      <td>Iris-setosa</td>\n",
       "    </tr>\n",
       "    <tr>\n",
       "      <th>14</th>\n",
       "      <td>5.8</td>\n",
       "      <td>4.0</td>\n",
       "      <td>1.2</td>\n",
       "      <td>0.2</td>\n",
       "      <td>Iris-setosa</td>\n",
       "    </tr>\n",
       "    <tr>\n",
       "      <th>15</th>\n",
       "      <td>5.7</td>\n",
       "      <td>NaN</td>\n",
       "      <td>1.5</td>\n",
       "      <td>0.4</td>\n",
       "      <td>Iris-setosa</td>\n",
       "    </tr>\n",
       "    <tr>\n",
       "      <th>16</th>\n",
       "      <td>5.4</td>\n",
       "      <td>3.9</td>\n",
       "      <td>1.3</td>\n",
       "      <td>0.4</td>\n",
       "      <td>Iris-setosa</td>\n",
       "    </tr>\n",
       "    <tr>\n",
       "      <th>17</th>\n",
       "      <td>5.1</td>\n",
       "      <td>3.5</td>\n",
       "      <td>1.4</td>\n",
       "      <td>0.3</td>\n",
       "      <td>Iris-setosa</td>\n",
       "    </tr>\n",
       "    <tr>\n",
       "      <th>18</th>\n",
       "      <td>5.7</td>\n",
       "      <td>3.8</td>\n",
       "      <td>1.7</td>\n",
       "      <td>0.3</td>\n",
       "      <td>Iris-setosa</td>\n",
       "    </tr>\n",
       "    <tr>\n",
       "      <th>19</th>\n",
       "      <td>5.1</td>\n",
       "      <td>3.8</td>\n",
       "      <td>1.5</td>\n",
       "      <td>0.3</td>\n",
       "      <td>Iris-setosa</td>\n",
       "    </tr>\n",
       "  </tbody>\n",
       "</table>\n",
       "</div>"
      ],
      "text/plain": [
       "    sepal length in cm  sepal width in cm  petal length in cm  \\\n",
       "0                  5.1                3.5                 1.4   \n",
       "1                  4.9                3.0                 1.4   \n",
       "2                  4.7                3.2                 1.3   \n",
       "3                  4.6                3.1                 1.5   \n",
       "4                  5.0                3.6                 1.4   \n",
       "5                  5.4                3.9                 1.7   \n",
       "6                  4.6                3.4                 1.4   \n",
       "7                  5.0                3.4                10.0   \n",
       "8                  4.4                2.9                 1.4   \n",
       "9                  4.9                3.1                 1.5   \n",
       "10                 5.4                3.7                 1.5   \n",
       "11                 4.8                3.4                 1.6   \n",
       "12                 4.8                3.0                 1.4   \n",
       "13                 4.3                3.0                 1.1   \n",
       "14                 5.8                4.0                 1.2   \n",
       "15                 5.7                NaN                 1.5   \n",
       "16                 5.4                3.9                 1.3   \n",
       "17                 5.1                3.5                 1.4   \n",
       "18                 5.7                3.8                 1.7   \n",
       "19                 5.1                3.8                 1.5   \n",
       "\n",
       "    petal width in cm        class  \n",
       "0                 0.2  Iris-setosa  \n",
       "1                 0.2  Iris-setosa  \n",
       "2                 0.2  Iris-setosa  \n",
       "3                 0.2  Iris-setosa  \n",
       "4                 0.2  Iris-setosa  \n",
       "5                 0.4  Iris-setosa  \n",
       "6                 0.3  Iris-setosa  \n",
       "7                 0.2  Iris-setosa  \n",
       "8                 0.2  Iris-setosa  \n",
       "9                 0.1  Iris-setosa  \n",
       "10                0.2  Iris-setosa  \n",
       "11                0.2  Iris-setosa  \n",
       "12                0.1  Iris-setosa  \n",
       "13                0.1  Iris-setosa  \n",
       "14                0.2  Iris-setosa  \n",
       "15                0.4  Iris-setosa  \n",
       "16                0.4  Iris-setosa  \n",
       "17                0.3  Iris-setosa  \n",
       "18                0.3  Iris-setosa  \n",
       "19                0.3  Iris-setosa  "
      ]
     },
     "execution_count": 114,
     "metadata": {},
     "output_type": "execute_result"
    }
   ],
   "source": [
    "df[0:20]"
   ]
  },
  {
   "cell_type": "code",
   "execution_count": 115,
   "id": "277aa914",
   "metadata": {},
   "outputs": [
    {
     "name": "stdout",
     "output_type": "stream",
     "text": [
      "sepal length in cm  0\n",
      "sepal width in cm  0\n",
      "petal length in cm  0\n",
      "petal width in cm  0\n",
      "class  0\n"
     ]
    }
   ],
   "source": [
    "#Number of Zeroes\n",
    "for i in df.columns:\n",
    "    count_0=0\n",
    "    for j in df[i]:\n",
    "        if j==0:\n",
    "            count_0=count_0+1\n",
    "    print(\"{}  {}\".format(i,count_0))"
   ]
  },
  {
   "cell_type": "code",
   "execution_count": 116,
   "id": "a8fc27c6",
   "metadata": {},
   "outputs": [
    {
     "name": "stdout",
     "output_type": "stream",
     "text": [
      "sepal length in cm == 3\n",
      "sepal width in cm == 3\n",
      "petal length in cm == 3\n",
      "petal width in cm == 2\n",
      "class == 3\n"
     ]
    }
   ],
   "source": [
    "count_null=0\n",
    "\n",
    "def count_nan():\n",
    "    for i in df.columns:\n",
    "        x=df[i].isna().sum()\n",
    "    \n",
    "        print(\"{} == {}\".format(i,x))\n",
    "count_nan()    "
   ]
  },
  {
   "cell_type": "code",
   "execution_count": 117,
   "id": "312a66a5",
   "metadata": {},
   "outputs": [],
   "source": [
    "#question 5\n",
    "#replacing the 0 value with nan we are checking for both int as well as char\n",
    "cols = [\"sepal length in cm\",\"sepal width in cm\"]\n",
    "df[cols] = df[cols].replace({'0':np.nan, 0:np.nan})"
   ]
  },
  {
   "cell_type": "code",
   "execution_count": 118,
   "id": "b46ee327",
   "metadata": {},
   "outputs": [
    {
     "name": "stdout",
     "output_type": "stream",
     "text": [
      "sepal length in cm == 3\n",
      "sepal width in cm == 3\n",
      "petal length in cm == 3\n",
      "petal width in cm == 2\n",
      "class == 3\n"
     ]
    }
   ],
   "source": [
    "count_nan()"
   ]
  },
  {
   "cell_type": "code",
   "execution_count": 119,
   "id": "81e59157",
   "metadata": {},
   "outputs": [
    {
     "data": {
      "text/plain": [
       "13"
      ]
     },
     "execution_count": 119,
     "metadata": {},
     "output_type": "execute_result"
    }
   ],
   "source": [
    "df.isna().all(axis=1).sum()\n",
    "df.isna().any(axis=1).sum()"
   ]
  },
  {
   "cell_type": "code",
   "execution_count": 120,
   "id": "4599dae8",
   "metadata": {},
   "outputs": [
    {
     "data": {
      "text/plain": [
       "sepal length in cm    137\n",
       "sepal width in cm     137\n",
       "petal length in cm    137\n",
       "petal width in cm     137\n",
       "class                 137\n",
       "dtype: int64"
      ]
     },
     "execution_count": 120,
     "metadata": {},
     "output_type": "execute_result"
    }
   ],
   "source": [
    "df.dropna().count()"
   ]
  },
  {
   "cell_type": "code",
   "execution_count": 121,
   "id": "8b03ab2d",
   "metadata": {},
   "outputs": [
    {
     "data": {
      "text/plain": [
       "sepal length in cm    147\n",
       "sepal width in cm     147\n",
       "petal length in cm    147\n",
       "petal width in cm     148\n",
       "class                 147\n",
       "dtype: int64"
      ]
     },
     "execution_count": 121,
     "metadata": {},
     "output_type": "execute_result"
    }
   ],
   "source": [
    "df.count()"
   ]
  },
  {
   "cell_type": "code",
   "execution_count": null,
   "id": "d1fc52ca",
   "metadata": {},
   "outputs": [],
   "source": []
  },
  {
   "cell_type": "code",
   "execution_count": 122,
   "id": "aa6a66e7",
   "metadata": {},
   "outputs": [
    {
     "data": {
      "text/plain": [
       "sepal length in cm    137\n",
       "sepal width in cm     137\n",
       "petal length in cm    137\n",
       "petal width in cm     137\n",
       "class                 137\n",
       "dtype: int64"
      ]
     },
     "execution_count": 122,
     "metadata": {},
     "output_type": "execute_result"
    }
   ],
   "source": [
    "df.dropna().count()"
   ]
  },
  {
   "cell_type": "code",
   "execution_count": 123,
   "id": "bb6fafe8",
   "metadata": {},
   "outputs": [
    {
     "data": {
      "text/plain": [
       "sepal length in cm    147\n",
       "sepal width in cm     147\n",
       "petal length in cm    147\n",
       "petal width in cm     148\n",
       "class                 147\n",
       "dtype: int64"
      ]
     },
     "execution_count": 123,
     "metadata": {},
     "output_type": "execute_result"
    }
   ],
   "source": [
    "df.count()"
   ]
  },
  {
   "cell_type": "code",
   "execution_count": 124,
   "id": "462b106d",
   "metadata": {},
   "outputs": [],
   "source": [
    "#question 9\n",
    "#filling the null values with mean \n",
    "#for class attribute we are filling the null value with mode\n",
    "df['sepal length in cm'] = df['sepal length in cm'].fillna(df['sepal length in cm'].mean())\n",
    "df['sepal width in cm'] = df['sepal width in cm'].fillna(df['sepal width in cm'].mean())\n",
    "df['petal length in cm'] = df['petal length in cm'].fillna(df['petal length in cm'].mean())\n",
    "df['petal width in cm'] = df['petal width in cm'].fillna(df['petal width in cm'].mean())\n",
    "df['class'] = df['class'].fillna(df['class'].mode()[0])"
   ]
  },
  {
   "cell_type": "code",
   "execution_count": 125,
   "id": "d78ec846",
   "metadata": {},
   "outputs": [
    {
     "data": {
      "text/plain": [
       "sepal length in cm    150\n",
       "sepal width in cm     150\n",
       "petal length in cm    150\n",
       "petal width in cm     150\n",
       "class                 150\n",
       "dtype: int64"
      ]
     },
     "execution_count": 125,
     "metadata": {},
     "output_type": "execute_result"
    }
   ],
   "source": [
    "df.count()"
   ]
  },
  {
   "cell_type": "code",
   "execution_count": 128,
   "id": "7c3269fb",
   "metadata": {},
   "outputs": [],
   "source": [
    "df1=pd.DataFrame(columns=lis)"
   ]
  },
  {
   "cell_type": "code",
   "execution_count": 129,
   "id": "a96355e9",
   "metadata": {},
   "outputs": [
    {
     "data": {
      "text/html": [
       "<div>\n",
       "<style scoped>\n",
       "    .dataframe tbody tr th:only-of-type {\n",
       "        vertical-align: middle;\n",
       "    }\n",
       "\n",
       "    .dataframe tbody tr th {\n",
       "        vertical-align: top;\n",
       "    }\n",
       "\n",
       "    .dataframe thead th {\n",
       "        text-align: right;\n",
       "    }\n",
       "</style>\n",
       "<table border=\"1\" class=\"dataframe\">\n",
       "  <thead>\n",
       "    <tr style=\"text-align: right;\">\n",
       "      <th></th>\n",
       "      <th>sepal length in cm</th>\n",
       "      <th>sepal width in cm</th>\n",
       "      <th>petal length in cm</th>\n",
       "      <th>petal width in cm</th>\n",
       "      <th>class</th>\n",
       "    </tr>\n",
       "  </thead>\n",
       "  <tbody>\n",
       "  </tbody>\n",
       "</table>\n",
       "</div>"
      ],
      "text/plain": [
       "Empty DataFrame\n",
       "Columns: [sepal length in cm, sepal width in cm, petal length in cm, petal width in cm, class]\n",
       "Index: []"
      ]
     },
     "execution_count": 129,
     "metadata": {},
     "output_type": "execute_result"
    }
   ],
   "source": [
    "df1.head()"
   ]
  },
  {
   "cell_type": "code",
   "execution_count": 130,
   "id": "0e57cb1a",
   "metadata": {},
   "outputs": [],
   "source": [
    "df1=df"
   ]
  },
  {
   "cell_type": "code",
   "execution_count": 131,
   "id": "94b21330",
   "metadata": {},
   "outputs": [
    {
     "data": {
      "text/html": [
       "<div>\n",
       "<style scoped>\n",
       "    .dataframe tbody tr th:only-of-type {\n",
       "        vertical-align: middle;\n",
       "    }\n",
       "\n",
       "    .dataframe tbody tr th {\n",
       "        vertical-align: top;\n",
       "    }\n",
       "\n",
       "    .dataframe thead th {\n",
       "        text-align: right;\n",
       "    }\n",
       "</style>\n",
       "<table border=\"1\" class=\"dataframe\">\n",
       "  <thead>\n",
       "    <tr style=\"text-align: right;\">\n",
       "      <th></th>\n",
       "      <th>sepal length in cm</th>\n",
       "      <th>sepal width in cm</th>\n",
       "      <th>petal length in cm</th>\n",
       "      <th>petal width in cm</th>\n",
       "      <th>class</th>\n",
       "    </tr>\n",
       "  </thead>\n",
       "  <tbody>\n",
       "    <tr>\n",
       "      <th>0</th>\n",
       "      <td>5.1</td>\n",
       "      <td>3.5</td>\n",
       "      <td>1.4</td>\n",
       "      <td>0.2</td>\n",
       "      <td>Iris-setosa</td>\n",
       "    </tr>\n",
       "    <tr>\n",
       "      <th>1</th>\n",
       "      <td>4.9</td>\n",
       "      <td>3.0</td>\n",
       "      <td>1.4</td>\n",
       "      <td>0.2</td>\n",
       "      <td>Iris-setosa</td>\n",
       "    </tr>\n",
       "    <tr>\n",
       "      <th>2</th>\n",
       "      <td>4.7</td>\n",
       "      <td>3.2</td>\n",
       "      <td>1.3</td>\n",
       "      <td>0.2</td>\n",
       "      <td>Iris-setosa</td>\n",
       "    </tr>\n",
       "    <tr>\n",
       "      <th>3</th>\n",
       "      <td>4.6</td>\n",
       "      <td>3.1</td>\n",
       "      <td>1.5</td>\n",
       "      <td>0.2</td>\n",
       "      <td>Iris-setosa</td>\n",
       "    </tr>\n",
       "    <tr>\n",
       "      <th>4</th>\n",
       "      <td>5.0</td>\n",
       "      <td>3.6</td>\n",
       "      <td>1.4</td>\n",
       "      <td>0.2</td>\n",
       "      <td>Iris-setosa</td>\n",
       "    </tr>\n",
       "  </tbody>\n",
       "</table>\n",
       "</div>"
      ],
      "text/plain": [
       "   sepal length in cm  sepal width in cm  petal length in cm  \\\n",
       "0                 5.1                3.5                 1.4   \n",
       "1                 4.9                3.0                 1.4   \n",
       "2                 4.7                3.2                 1.3   \n",
       "3                 4.6                3.1                 1.5   \n",
       "4                 5.0                3.6                 1.4   \n",
       "\n",
       "   petal width in cm        class  \n",
       "0                0.2  Iris-setosa  \n",
       "1                0.2  Iris-setosa  \n",
       "2                0.2  Iris-setosa  \n",
       "3                0.2  Iris-setosa  \n",
       "4                0.2  Iris-setosa  "
      ]
     },
     "execution_count": 131,
     "metadata": {},
     "output_type": "execute_result"
    }
   ],
   "source": [
    "df1.head()"
   ]
  },
  {
   "cell_type": "code",
   "execution_count": 133,
   "id": "9c13a4d8",
   "metadata": {},
   "outputs": [],
   "source": [
    "#sampling the dataset\n",
    "df_sample_replacement=df.sample(frac=.2,replace = True, random_state=2)\n",
    "df_sample_nonreplacement=df.sample(frac=.2,replace=False,random_state=2)"
   ]
  },
  {
   "cell_type": "code",
   "execution_count": 134,
   "id": "92debc38",
   "metadata": {},
   "outputs": [
    {
     "data": {
      "text/plain": [
       "sepal length in cm    30\n",
       "sepal width in cm     30\n",
       "petal length in cm    30\n",
       "petal width in cm     30\n",
       "class                 30\n",
       "dtype: int64"
      ]
     },
     "execution_count": 134,
     "metadata": {},
     "output_type": "execute_result"
    }
   ],
   "source": [
    "# number of rows in the columns\n",
    "df_sample_replacement.count()\n",
    "df_sample_nonreplacement.count()"
   ]
  },
  {
   "cell_type": "code",
   "execution_count": 136,
   "id": "0fe5d93a",
   "metadata": {},
   "outputs": [],
   "source": [
    "#zscore= (x-mean)/standarddeviation It is used to normalize the data\n",
    "# question 12\n",
    "#calculating the zscore and storing it in different columns\n",
    "from scipy.stats import zscore\n",
    "df['sepal_length_zscore'] = zscore(df['sepal length in cm'])\n",
    "df['sepal_width_zscore'] = zscore(df['sepal width in cm'])\n",
    "df['petal_length_zscore'] = zscore(df['petal length in cm'])\n",
    "df['petal_width_zscore'] = zscore(df['petal width in cm'])"
   ]
  },
  {
   "cell_type": "code",
   "execution_count": 137,
   "id": "324d2bd9",
   "metadata": {},
   "outputs": [
    {
     "data": {
      "text/html": [
       "<div>\n",
       "<style scoped>\n",
       "    .dataframe tbody tr th:only-of-type {\n",
       "        vertical-align: middle;\n",
       "    }\n",
       "\n",
       "    .dataframe tbody tr th {\n",
       "        vertical-align: top;\n",
       "    }\n",
       "\n",
       "    .dataframe thead th {\n",
       "        text-align: right;\n",
       "    }\n",
       "</style>\n",
       "<table border=\"1\" class=\"dataframe\">\n",
       "  <thead>\n",
       "    <tr style=\"text-align: right;\">\n",
       "      <th></th>\n",
       "      <th>sepal length in cm</th>\n",
       "      <th>sepal width in cm</th>\n",
       "      <th>petal length in cm</th>\n",
       "      <th>petal width in cm</th>\n",
       "      <th>class</th>\n",
       "      <th>sepal_length_zscore</th>\n",
       "      <th>sepal_width_zscore</th>\n",
       "      <th>petal_length_zscore</th>\n",
       "      <th>petal_width_zscore</th>\n",
       "    </tr>\n",
       "  </thead>\n",
       "  <tbody>\n",
       "    <tr>\n",
       "      <th>0</th>\n",
       "      <td>5.1</td>\n",
       "      <td>3.5</td>\n",
       "      <td>1.4</td>\n",
       "      <td>0.2</td>\n",
       "      <td>Iris-setosa</td>\n",
       "      <td>-0.734506</td>\n",
       "      <td>0.298618</td>\n",
       "      <td>-1.356197</td>\n",
       "      <td>-1.311334</td>\n",
       "    </tr>\n",
       "    <tr>\n",
       "      <th>1</th>\n",
       "      <td>4.9</td>\n",
       "      <td>3.0</td>\n",
       "      <td>1.4</td>\n",
       "      <td>0.2</td>\n",
       "      <td>Iris-setosa</td>\n",
       "      <td>-0.916125</td>\n",
       "      <td>-0.114723</td>\n",
       "      <td>-1.356197</td>\n",
       "      <td>-1.311334</td>\n",
       "    </tr>\n",
       "    <tr>\n",
       "      <th>2</th>\n",
       "      <td>4.7</td>\n",
       "      <td>3.2</td>\n",
       "      <td>1.3</td>\n",
       "      <td>0.2</td>\n",
       "      <td>Iris-setosa</td>\n",
       "      <td>-1.097744</td>\n",
       "      <td>0.050613</td>\n",
       "      <td>-1.411853</td>\n",
       "      <td>-1.311334</td>\n",
       "    </tr>\n",
       "    <tr>\n",
       "      <th>3</th>\n",
       "      <td>4.6</td>\n",
       "      <td>3.1</td>\n",
       "      <td>1.5</td>\n",
       "      <td>0.2</td>\n",
       "      <td>Iris-setosa</td>\n",
       "      <td>-1.188554</td>\n",
       "      <td>-0.032055</td>\n",
       "      <td>-1.300541</td>\n",
       "      <td>-1.311334</td>\n",
       "    </tr>\n",
       "    <tr>\n",
       "      <th>4</th>\n",
       "      <td>5.0</td>\n",
       "      <td>3.6</td>\n",
       "      <td>1.4</td>\n",
       "      <td>0.2</td>\n",
       "      <td>Iris-setosa</td>\n",
       "      <td>-0.825316</td>\n",
       "      <td>0.381287</td>\n",
       "      <td>-1.356197</td>\n",
       "      <td>-1.311334</td>\n",
       "    </tr>\n",
       "  </tbody>\n",
       "</table>\n",
       "</div>"
      ],
      "text/plain": [
       "   sepal length in cm  sepal width in cm  petal length in cm  \\\n",
       "0                 5.1                3.5                 1.4   \n",
       "1                 4.9                3.0                 1.4   \n",
       "2                 4.7                3.2                 1.3   \n",
       "3                 4.6                3.1                 1.5   \n",
       "4                 5.0                3.6                 1.4   \n",
       "\n",
       "   petal width in cm        class  sepal_length_zscore  sepal_width_zscore  \\\n",
       "0                0.2  Iris-setosa            -0.734506            0.298618   \n",
       "1                0.2  Iris-setosa            -0.916125           -0.114723   \n",
       "2                0.2  Iris-setosa            -1.097744            0.050613   \n",
       "3                0.2  Iris-setosa            -1.188554           -0.032055   \n",
       "4                0.2  Iris-setosa            -0.825316            0.381287   \n",
       "\n",
       "   petal_length_zscore  petal_width_zscore  \n",
       "0            -1.356197           -1.311334  \n",
       "1            -1.356197           -1.311334  \n",
       "2            -1.411853           -1.311334  \n",
       "3            -1.300541           -1.311334  \n",
       "4            -1.356197           -1.311334  "
      ]
     },
     "execution_count": 137,
     "metadata": {},
     "output_type": "execute_result"
    }
   ],
   "source": [
    "df.head()"
   ]
  },
  {
   "cell_type": "code",
   "execution_count": null,
   "id": "cdd85db1",
   "metadata": {},
   "outputs": [],
   "source": [
    "# for z score the z value> 3 is considerd as outliers\n",
    "#question 13\n",
    "#We identify outliers using zscore as if zscore value is greater than 3 that that value is outlier\n",
    "(df['sepal_length_zscore']>3).sum()\n",
    "(df['sepal_width_zscore']>3).sum()\n",
    "(df['petal_length_zscore']>3).sum()\n",
    "(df['petal_width_zscore']>3).sum()"
   ]
  },
  {
   "cell_type": "code",
   "execution_count": 138,
   "id": "6a3e65f8",
   "metadata": {},
   "outputs": [
    {
     "data": {
      "text/plain": [
       "1"
      ]
     },
     "execution_count": 138,
     "metadata": {},
     "output_type": "execute_result"
    }
   ],
   "source": [
    "(df['sepal_length_zscore']>3).sum()"
   ]
  },
  {
   "cell_type": "code",
   "execution_count": 139,
   "id": "f66e7276",
   "metadata": {},
   "outputs": [
    {
     "data": {
      "text/plain": [
       "1"
      ]
     },
     "execution_count": 139,
     "metadata": {},
     "output_type": "execute_result"
    }
   ],
   "source": [
    "(df['sepal_width_zscore']>3).sum()"
   ]
  },
  {
   "cell_type": "code",
   "execution_count": 140,
   "id": "4267e6e9",
   "metadata": {},
   "outputs": [
    {
     "data": {
      "text/plain": [
       "1"
      ]
     },
     "execution_count": 140,
     "metadata": {},
     "output_type": "execute_result"
    }
   ],
   "source": [
    "(df['petal_length_zscore']>3).sum()\n"
   ]
  },
  {
   "cell_type": "code",
   "execution_count": 141,
   "id": "53f592ce",
   "metadata": {},
   "outputs": [
    {
     "data": {
      "text/plain": [
       "0"
      ]
     },
     "execution_count": 141,
     "metadata": {},
     "output_type": "execute_result"
    }
   ],
   "source": [
    "(df['petal_width_zscore']>3).sum()"
   ]
  },
  {
   "cell_type": "code",
   "execution_count": 142,
   "id": "16ce0fa1",
   "metadata": {},
   "outputs": [],
   "source": [
    "# There are 1 outlier in three columns "
   ]
  },
  {
   "cell_type": "code",
   "execution_count": 150,
   "id": "6eca9795",
   "metadata": {},
   "outputs": [],
   "source": [
    "df1 = df[['sepal length in cm','sepal width in cm','petal length in cm','petal width in cm']]"
   ]
  },
  {
   "cell_type": "code",
   "execution_count": 151,
   "id": "044a191f",
   "metadata": {},
   "outputs": [
    {
     "name": "stdout",
     "output_type": "stream",
     "text": [
      "[[1.         0.         0.5        0.        ]\n",
      " [0.33333333 1.         0.         0.        ]\n",
      " [0.         0.5        1.         0.        ]]\n"
     ]
    }
   ],
   "source": [
    "# min max normalisation (x-min)/max-min\n",
    "from sklearn.preprocessing import MinMaxScaler\n",
    "\n",
    "scaler = MinMaxScaler()\n",
    "\n",
    "normalized_data = scaler.fit_transform(df1[1:4])\n",
    "\n",
    "print(normalized_data)"
   ]
  },
  {
   "cell_type": "code",
   "execution_count": 153,
   "id": "6823695c",
   "metadata": {},
   "outputs": [
    {
     "name": "stdout",
     "output_type": "stream",
     "text": [
      "   sepal length in cm  sepal width in cm  petal length in cm  \\\n",
      "0            1.000000                0.0                 0.5   \n",
      "1            0.333333                1.0                 0.0   \n",
      "2            0.000000                0.5                 1.0   \n",
      "\n",
      "   petal width in cm  \n",
      "0                0.0  \n",
      "1                0.0  \n",
      "2                0.0  \n"
     ]
    }
   ],
   "source": [
    "normalized_df = pd.DataFrame(normalized_data, columns=df1.columns)\n",
    "\n",
    "print(normalized_df)\n"
   ]
  },
  {
   "cell_type": "code",
   "execution_count": 154,
   "id": "f6859645",
   "metadata": {},
   "outputs": [
    {
     "data": {
      "text/plain": [
       "0      (0.999, 1.5]\n",
       "1      (0.999, 1.5]\n",
       "2      (0.999, 1.5]\n",
       "3      (0.999, 1.5]\n",
       "4      (0.999, 1.5]\n",
       "           ...     \n",
       "145      (4.9, 5.6]\n",
       "146      (4.9, 5.6]\n",
       "147      (4.9, 5.6]\n",
       "148      (4.9, 5.6]\n",
       "149      (4.9, 5.6]\n",
       "Name: petal length in cm, Length: 150, dtype: category\n",
       "Categories (6, interval[float64, right]): [(0.999, 1.5] < (1.5, 3.433] < (3.433, 4.35] < (4.35, 4.9] < (4.9, 5.6] < (5.6, 10.0]]"
      ]
     },
     "execution_count": 154,
     "metadata": {},
     "output_type": "execute_result"
    }
   ],
   "source": [
    "#question 15\n",
    "#creating 6 bins for storing the values of petal length column\n",
    "pd.qcut(df['petal length in cm'], q=6)"
   ]
  },
  {
   "cell_type": "code",
   "execution_count": 155,
   "id": "1382dc43",
   "metadata": {},
   "outputs": [],
   "source": [
    "#storing the petal length value in a data frame\n",
    "df2 = pd.DataFrame(columns=['petal length in cm'])"
   ]
  },
  {
   "cell_type": "code",
   "execution_count": 156,
   "id": "0139bf2a",
   "metadata": {},
   "outputs": [],
   "source": [
    "#copying the values from the original data set\n",
    "df2['petal length in cm']=df['petal length in cm']"
   ]
  },
  {
   "cell_type": "code",
   "execution_count": 157,
   "id": "5414674b",
   "metadata": {},
   "outputs": [
    {
     "name": "stdout",
     "output_type": "stream",
     "text": [
      "   petal length in cm petal length bin\n",
      "0                 1.4  very very short\n",
      "1                 1.4  very very short\n",
      "2                 1.3  very very short\n",
      "3                 1.5  very very short\n",
      "4                 1.4  very very short\n"
     ]
    }
   ],
   "source": [
    "# doing binning and storing the value in a column naming the bins based on length \n",
    "df2['petal length bin']=pd.cut(x=df2['petal length in cm'], bins=[0.999,1.5,3.433,4.35,4.9,5.6,10.0], \n",
    "                        labels=[\"very very short\", \"very short\", \"medium\",\"tall\",\"very tall\",'tallest'])\n",
    "print(df2.head())"
   ]
  },
  {
   "cell_type": "code",
   "execution_count": 158,
   "id": "90d26901",
   "metadata": {},
   "outputs": [],
   "source": [
    "#question 16\n",
    "#calculating the pearsond correlation\n",
    "from scipy.stats import pearsonr"
   ]
  },
  {
   "cell_type": "code",
   "execution_count": 159,
   "id": "fd4c68f2",
   "metadata": {},
   "outputs": [
    {
     "data": {
      "text/html": [
       "<div>\n",
       "<style scoped>\n",
       "    .dataframe tbody tr th:only-of-type {\n",
       "        vertical-align: middle;\n",
       "    }\n",
       "\n",
       "    .dataframe tbody tr th {\n",
       "        vertical-align: top;\n",
       "    }\n",
       "\n",
       "    .dataframe thead th {\n",
       "        text-align: right;\n",
       "    }\n",
       "</style>\n",
       "<table border=\"1\" class=\"dataframe\">\n",
       "  <thead>\n",
       "    <tr style=\"text-align: right;\">\n",
       "      <th></th>\n",
       "      <th>sepal length in cm</th>\n",
       "      <th>sepal width in cm</th>\n",
       "      <th>petal length in cm</th>\n",
       "      <th>petal width in cm</th>\n",
       "      <th>sepal_length_zscore</th>\n",
       "      <th>sepal_width_zscore</th>\n",
       "      <th>petal_length_zscore</th>\n",
       "      <th>petal_width_zscore</th>\n",
       "    </tr>\n",
       "  </thead>\n",
       "  <tbody>\n",
       "    <tr>\n",
       "      <th>sepal length in cm</th>\n",
       "      <td>1.000000</td>\n",
       "      <td>-0.045652</td>\n",
       "      <td>0.509271</td>\n",
       "      <td>0.518591</td>\n",
       "      <td>1.000000</td>\n",
       "      <td>-0.045652</td>\n",
       "      <td>0.509271</td>\n",
       "      <td>0.518591</td>\n",
       "    </tr>\n",
       "    <tr>\n",
       "      <th>sepal width in cm</th>\n",
       "      <td>-0.045652</td>\n",
       "      <td>1.000000</td>\n",
       "      <td>-0.125489</td>\n",
       "      <td>-0.109536</td>\n",
       "      <td>-0.045652</td>\n",
       "      <td>1.000000</td>\n",
       "      <td>-0.125489</td>\n",
       "      <td>-0.109536</td>\n",
       "    </tr>\n",
       "    <tr>\n",
       "      <th>petal length in cm</th>\n",
       "      <td>0.509271</td>\n",
       "      <td>-0.125489</td>\n",
       "      <td>1.000000</td>\n",
       "      <td>0.873729</td>\n",
       "      <td>0.509271</td>\n",
       "      <td>-0.125489</td>\n",
       "      <td>1.000000</td>\n",
       "      <td>0.873729</td>\n",
       "    </tr>\n",
       "    <tr>\n",
       "      <th>petal width in cm</th>\n",
       "      <td>0.518591</td>\n",
       "      <td>-0.109536</td>\n",
       "      <td>0.873729</td>\n",
       "      <td>1.000000</td>\n",
       "      <td>0.518591</td>\n",
       "      <td>-0.109536</td>\n",
       "      <td>0.873729</td>\n",
       "      <td>1.000000</td>\n",
       "    </tr>\n",
       "    <tr>\n",
       "      <th>sepal_length_zscore</th>\n",
       "      <td>1.000000</td>\n",
       "      <td>-0.045652</td>\n",
       "      <td>0.509271</td>\n",
       "      <td>0.518591</td>\n",
       "      <td>1.000000</td>\n",
       "      <td>-0.045652</td>\n",
       "      <td>0.509271</td>\n",
       "      <td>0.518591</td>\n",
       "    </tr>\n",
       "    <tr>\n",
       "      <th>sepal_width_zscore</th>\n",
       "      <td>-0.045652</td>\n",
       "      <td>1.000000</td>\n",
       "      <td>-0.125489</td>\n",
       "      <td>-0.109536</td>\n",
       "      <td>-0.045652</td>\n",
       "      <td>1.000000</td>\n",
       "      <td>-0.125489</td>\n",
       "      <td>-0.109536</td>\n",
       "    </tr>\n",
       "    <tr>\n",
       "      <th>petal_length_zscore</th>\n",
       "      <td>0.509271</td>\n",
       "      <td>-0.125489</td>\n",
       "      <td>1.000000</td>\n",
       "      <td>0.873729</td>\n",
       "      <td>0.509271</td>\n",
       "      <td>-0.125489</td>\n",
       "      <td>1.000000</td>\n",
       "      <td>0.873729</td>\n",
       "    </tr>\n",
       "    <tr>\n",
       "      <th>petal_width_zscore</th>\n",
       "      <td>0.518591</td>\n",
       "      <td>-0.109536</td>\n",
       "      <td>0.873729</td>\n",
       "      <td>1.000000</td>\n",
       "      <td>0.518591</td>\n",
       "      <td>-0.109536</td>\n",
       "      <td>0.873729</td>\n",
       "      <td>1.000000</td>\n",
       "    </tr>\n",
       "  </tbody>\n",
       "</table>\n",
       "</div>"
      ],
      "text/plain": [
       "                     sepal length in cm  sepal width in cm  \\\n",
       "sepal length in cm             1.000000          -0.045652   \n",
       "sepal width in cm             -0.045652           1.000000   \n",
       "petal length in cm             0.509271          -0.125489   \n",
       "petal width in cm              0.518591          -0.109536   \n",
       "sepal_length_zscore            1.000000          -0.045652   \n",
       "sepal_width_zscore            -0.045652           1.000000   \n",
       "petal_length_zscore            0.509271          -0.125489   \n",
       "petal_width_zscore             0.518591          -0.109536   \n",
       "\n",
       "                     petal length in cm  petal width in cm  \\\n",
       "sepal length in cm             0.509271           0.518591   \n",
       "sepal width in cm             -0.125489          -0.109536   \n",
       "petal length in cm             1.000000           0.873729   \n",
       "petal width in cm              0.873729           1.000000   \n",
       "sepal_length_zscore            0.509271           0.518591   \n",
       "sepal_width_zscore            -0.125489          -0.109536   \n",
       "petal_length_zscore            1.000000           0.873729   \n",
       "petal_width_zscore             0.873729           1.000000   \n",
       "\n",
       "                     sepal_length_zscore  sepal_width_zscore  \\\n",
       "sepal length in cm              1.000000           -0.045652   \n",
       "sepal width in cm              -0.045652            1.000000   \n",
       "petal length in cm              0.509271           -0.125489   \n",
       "petal width in cm               0.518591           -0.109536   \n",
       "sepal_length_zscore             1.000000           -0.045652   \n",
       "sepal_width_zscore             -0.045652            1.000000   \n",
       "petal_length_zscore             0.509271           -0.125489   \n",
       "petal_width_zscore              0.518591           -0.109536   \n",
       "\n",
       "                     petal_length_zscore  petal_width_zscore  \n",
       "sepal length in cm              0.509271            0.518591  \n",
       "sepal width in cm              -0.125489           -0.109536  \n",
       "petal length in cm              1.000000            0.873729  \n",
       "petal width in cm               0.873729            1.000000  \n",
       "sepal_length_zscore             0.509271            0.518591  \n",
       "sepal_width_zscore             -0.125489           -0.109536  \n",
       "petal_length_zscore             1.000000            0.873729  \n",
       "petal_width_zscore              0.873729            1.000000  "
      ]
     },
     "execution_count": 159,
     "metadata": {},
     "output_type": "execute_result"
    }
   ],
   "source": [
    "df.corr()"
   ]
  },
  {
   "cell_type": "code",
   "execution_count": null,
   "id": "5738dc96",
   "metadata": {},
   "outputs": [],
   "source": []
  }
 ],
 "metadata": {
  "kernelspec": {
   "display_name": "Python 3 (ipykernel)",
   "language": "python",
   "name": "python3"
  },
  "language_info": {
   "codemirror_mode": {
    "name": "ipython",
    "version": 3
   },
   "file_extension": ".py",
   "mimetype": "text/x-python",
   "name": "python",
   "nbconvert_exporter": "python",
   "pygments_lexer": "ipython3",
   "version": "3.9.13"
  }
 },
 "nbformat": 4,
 "nbformat_minor": 5
}
